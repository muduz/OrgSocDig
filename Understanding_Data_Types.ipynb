{
 "cells": [
  {
   "cell_type": "markdown",
   "metadata": {
    "id": "AL24h8SL9Bvu"
   },
   "source": [
    "### Esercizio NumPy 01/10"
   ]
  },
  {
   "cell_type": "markdown",
   "metadata": {
    "id": "Jws4uaty9Bv_"
   },
   "source": [
    "## Creating Arrays from Scratch"
   ]
  },
  {
   "cell_type": "code",
   "execution_count": 12,
   "metadata": {},
   "outputs": [],
   "source": [
    "import numpy as np #importo package"
   ]
  },
  {
   "cell_type": "markdown",
   "metadata": {},
   "source": [
    "1. **np.zeros() creare lista di 50 elementi**"
   ]
  },
  {
   "cell_type": "code",
   "execution_count": 13,
   "metadata": {
    "id": "hJp30P5H9Bv_",
    "outputId": "8d6ebadd-8a02-488c-f186-b48a5feb3322"
   },
   "outputs": [
    {
     "data": {
      "text/plain": [
       "array([0, 0, 0, 0, 0, 0, 0, 0, 0, 0, 0, 0, 0, 0, 0, 0, 0, 0, 0, 0, 0, 0,\n",
       "       0, 0, 0, 0, 0, 0, 0, 0, 0, 0, 0, 0, 0, 0, 0, 0, 0, 0, 0, 0, 0, 0,\n",
       "       0, 0, 0, 0, 0, 0])"
      ]
     },
     "execution_count": 13,
     "metadata": {},
     "output_type": "execute_result"
    }
   ],
   "source": [
    "np.zeros(50, dtype=int) #crea una lista di numeri interi, in questo caso di ZERO"
   ]
  },
  {
   "cell_type": "markdown",
   "metadata": {},
   "source": [
    "2. **np.ones() : creare matrice 2x5, di numeri interi**"
   ]
  },
  {
   "cell_type": "code",
   "execution_count": 14,
   "metadata": {
    "id": "thRyBm049BwB",
    "outputId": "1f69e366-72ee-4e17-b0fc-f9be3984562c"
   },
   "outputs": [
    {
     "data": {
      "text/plain": [
       "array([[1, 1, 1, 1, 1],\n",
       "       [1, 1, 1, 1, 1]])"
      ]
     },
     "execution_count": 14,
     "metadata": {},
     "output_type": "execute_result"
    }
   ],
   "source": [
    "np.ones((2, 5), dtype=int) #crea una lista di numeri interi, in questo caso UNO"
   ]
  },
  {
   "cell_type": "markdown",
   "metadata": {},
   "source": [
    "3. **np.full() : creare matrice 3x3 con valori 12.34**"
   ]
  },
  {
   "cell_type": "code",
   "execution_count": 15,
   "metadata": {
    "id": "SVS8IOAp9BwE",
    "outputId": "77050dcb-ccc4-4003-8b4d-83fb6090a91c"
   },
   "outputs": [
    {
     "data": {
      "text/plain": [
       "array([[12.34, 12.34, 12.34],\n",
       "       [12.34, 12.34, 12.34],\n",
       "       [12.34, 12.34, 12.34]])"
      ]
     },
     "execution_count": 15,
     "metadata": {},
     "output_type": "execute_result"
    }
   ],
   "source": [
    "np.full((3, 3), 12.34) #crea una lista riempita di un determinato numero"
   ]
  },
  {
   "cell_type": "markdown",
   "metadata": {},
   "source": [
    "4. **np.arange() : creare lista di 10 elementi, che inizia da 6 e incrementa di 4**"
   ]
  },
  {
   "cell_type": "code",
   "execution_count": 16,
   "metadata": {
    "id": "ZZKi0P0y9BwI",
    "outputId": "b6a9d7f0-fd64-4116-99cc-56bfc3ffe67f"
   },
   "outputs": [
    {
     "data": {
      "text/plain": [
       "array([6])"
      ]
     },
     "execution_count": 16,
     "metadata": {},
     "output_type": "execute_result"
    }
   ],
   "source": [
    "np.arange(6, 10, 4) #crea una lista in un determinato intervallo con un determinato salto di numeri"
   ]
  },
  {
   "cell_type": "markdown",
   "metadata": {},
   "source": [
    "5. **np.linespace(): creare lista di elementi tra 0 e 100 distanziati di 5**"
   ]
  },
  {
   "cell_type": "code",
   "execution_count": 23,
   "metadata": {
    "id": "kvRnpfbs9BwK",
    "outputId": "f5ed67a3-0fc4-465a-f1f0-5954e1bd7c81"
   },
   "outputs": [
    {
     "data": {
      "text/plain": [
       "array([  0.,  25.,  50.,  75., 100.])"
      ]
     },
     "execution_count": 23,
     "metadata": {},
     "output_type": "execute_result"
    }
   ],
   "source": [
    "np.linspace(0, 100, 5) #crea una lista in un determinato intervallo, specificando i gruppi di divisione"
   ]
  },
  {
   "cell_type": "markdown",
   "metadata": {},
   "source": [
    "6. **np.random.random() : creare matrice 1x10 di valori casuali tra 0 e 1**"
   ]
  },
  {
   "cell_type": "code",
   "execution_count": 18,
   "metadata": {
    "id": "a50nQT8r9BwM",
    "outputId": "c0e523d7-2bed-41d1-a1cd-f1e054a1128f"
   },
   "outputs": [
    {
     "data": {
      "text/plain": [
       "array([[0.86280772, 0.50495635, 0.19002308, 0.61899367, 0.39236908,\n",
       "        0.80759759, 0.39312175, 0.00745745, 0.40310756, 0.08941064]])"
      ]
     },
     "execution_count": 18,
     "metadata": {},
     "output_type": "execute_result"
    }
   ],
   "source": [
    "np.random.random((1, 10)) #crea una lista compresa tra 0 e 1"
   ]
  },
  {
   "cell_type": "markdown",
   "metadata": {},
   "source": [
    "7. **np.random.normal() : creare matrice 2x10 di valori con distribuzione gaussiana con media 0 e deviazione standard 1**"
   ]
  },
  {
   "cell_type": "code",
   "execution_count": 19,
   "metadata": {
    "id": "G26FhM6T9BwN",
    "outputId": "46c19613-6201-4f00-81b2-ea37b57081b6"
   },
   "outputs": [
    {
     "data": {
      "text/plain": [
       "array([[ 0.0402801 ,  0.38889922,  0.83427441,  1.33248986, -1.06712906,\n",
       "         1.1233466 , -0.30743041,  0.32057192, -0.25766667,  1.3256235 ],\n",
       "       [-0.19695412,  0.35577702, -0.01178922, -0.47525563,  0.22311099,\n",
       "         0.20317274,  0.64025104, -0.9636842 , -0.90498484, -0.21861098]])"
      ]
     },
     "execution_count": 19,
     "metadata": {},
     "output_type": "execute_result"
    }
   ],
   "source": [
    "np.random.normal(0, 1, (2, 10)) #crea una lista con una determinata media e varianza (0 e 1, distribuzione gaussiana)"
   ]
  }
 ],
 "metadata": {
  "anaconda-cloud": {},
  "colab": {
   "name": "02.01-Understanding-Data-Types.ipynb",
   "provenance": []
  },
  "kernelspec": {
   "display_name": "Python 3",
   "language": "python",
   "name": "python3"
  },
  "language_info": {
   "codemirror_mode": {
    "name": "ipython",
    "version": 3
   },
   "file_extension": ".py",
   "mimetype": "text/x-python",
   "name": "python",
   "nbconvert_exporter": "python",
   "pygments_lexer": "ipython3",
   "version": "3.8.3"
  }
 },
 "nbformat": 4,
 "nbformat_minor": 4
}
