{
 "cells": [
  {
   "cell_type": "markdown",
   "metadata": {},
   "source": [
    "# ESERCIZIO 3: Precipitazioni 15/10\n",
    "* * *"
   ]
  },
  {
   "cell_type": "markdown",
   "metadata": {},
   "source": [
    "+ **Importo le librerie**"
   ]
  },
  {
   "cell_type": "code",
   "execution_count": 1,
   "metadata": {},
   "outputs": [],
   "source": [
    "import numpy as np\n",
    "import pandas as pd"
   ]
  },
  {
   "cell_type": "markdown",
   "metadata": {},
   "source": [
    "+ **Leggere il dataset creando un proprio dataframe (precip). Visualizzare il dataframe**"
   ]
  },
  {
   "cell_type": "code",
   "execution_count": 2,
   "metadata": {},
   "outputs": [
    {
     "data": {
      "text/html": [
       "<div>\n",
       "<style scoped>\n",
       "    .dataframe tbody tr th:only-of-type {\n",
       "        vertical-align: middle;\n",
       "    }\n",
       "\n",
       "    .dataframe tbody tr th {\n",
       "        vertical-align: top;\n",
       "    }\n",
       "\n",
       "    .dataframe thead th {\n",
       "        text-align: right;\n",
       "    }\n",
       "</style>\n",
       "<table border=\"1\" class=\"dataframe\">\n",
       "  <thead>\n",
       "    <tr style=\"text-align: right;\">\n",
       "      <th></th>\n",
       "      <th>_id</th>\n",
       "      <th>Tipo-Zone</th>\n",
       "      <th>Id Sensore</th>\n",
       "      <th>Data-Ora</th>\n",
       "      <th>Valore Cumulato</th>\n",
       "    </tr>\n",
       "  </thead>\n",
       "  <tbody>\n",
       "    <tr>\n",
       "      <th>0</th>\n",
       "      <td>1</td>\n",
       "      <td>Brera</td>\n",
       "      <td>19373</td>\n",
       "      <td>2018-01-01T00:00:00</td>\n",
       "      <td>0.2</td>\n",
       "    </tr>\n",
       "    <tr>\n",
       "      <th>1</th>\n",
       "      <td>2</td>\n",
       "      <td>Juvara</td>\n",
       "      <td>5908</td>\n",
       "      <td>2018-01-01T00:00:00</td>\n",
       "      <td>0.0</td>\n",
       "    </tr>\n",
       "    <tr>\n",
       "      <th>2</th>\n",
       "      <td>3</td>\n",
       "      <td>Lambrate</td>\n",
       "      <td>2006</td>\n",
       "      <td>2018-01-01T00:00:00</td>\n",
       "      <td>0.0</td>\n",
       "    </tr>\n",
       "    <tr>\n",
       "      <th>3</th>\n",
       "      <td>4</td>\n",
       "      <td>Zavattari</td>\n",
       "      <td>9341</td>\n",
       "      <td>2018-01-01T00:00:00</td>\n",
       "      <td>0.4</td>\n",
       "    </tr>\n",
       "    <tr>\n",
       "      <th>4</th>\n",
       "      <td>5</td>\n",
       "      <td>Rosellini</td>\n",
       "      <td>14121</td>\n",
       "      <td>2018-01-01T00:00:00</td>\n",
       "      <td>0.0</td>\n",
       "    </tr>\n",
       "  </tbody>\n",
       "</table>\n",
       "</div>"
      ],
      "text/plain": [
       "   _id  Tipo-Zone  Id Sensore             Data-Ora  Valore Cumulato\n",
       "0    1      Brera       19373  2018-01-01T00:00:00              0.2\n",
       "1    2     Juvara        5908  2018-01-01T00:00:00              0.0\n",
       "2    3   Lambrate        2006  2018-01-01T00:00:00              0.0\n",
       "3    4  Zavattari        9341  2018-01-01T00:00:00              0.4\n",
       "4    5  Rosellini       14121  2018-01-01T00:00:00              0.0"
      ]
     },
     "execution_count": 2,
     "metadata": {},
     "output_type": "execute_result"
    }
   ],
   "source": [
    "precip = pd.read_csv(r\"C:/Users/Utente/Desktop/data/precipitazioni.csv\")\n",
    "precip.head()"
   ]
  },
  {
   "cell_type": "markdown",
   "metadata": {},
   "source": [
    "+ **Rinominare le colonne del dataframe per avere nomi più semplici da usare (ad esempio senza spazi, più corti)**"
   ]
  },
  {
   "cell_type": "code",
   "execution_count": 3,
   "metadata": {},
   "outputs": [
    {
     "data": {
      "text/html": [
       "<div>\n",
       "<style scoped>\n",
       "    .dataframe tbody tr th:only-of-type {\n",
       "        vertical-align: middle;\n",
       "    }\n",
       "\n",
       "    .dataframe tbody tr th {\n",
       "        vertical-align: top;\n",
       "    }\n",
       "\n",
       "    .dataframe thead th {\n",
       "        text-align: right;\n",
       "    }\n",
       "</style>\n",
       "<table border=\"1\" class=\"dataframe\">\n",
       "  <thead>\n",
       "    <tr style=\"text-align: right;\">\n",
       "      <th></th>\n",
       "      <th>_id</th>\n",
       "      <th>zona</th>\n",
       "      <th>id_sens</th>\n",
       "      <th>data_ora</th>\n",
       "      <th>val_cum</th>\n",
       "    </tr>\n",
       "  </thead>\n",
       "  <tbody>\n",
       "    <tr>\n",
       "      <th>0</th>\n",
       "      <td>1</td>\n",
       "      <td>Brera</td>\n",
       "      <td>19373</td>\n",
       "      <td>2018-01-01T00:00:00</td>\n",
       "      <td>0.2</td>\n",
       "    </tr>\n",
       "    <tr>\n",
       "      <th>1</th>\n",
       "      <td>2</td>\n",
       "      <td>Juvara</td>\n",
       "      <td>5908</td>\n",
       "      <td>2018-01-01T00:00:00</td>\n",
       "      <td>0.0</td>\n",
       "    </tr>\n",
       "    <tr>\n",
       "      <th>2</th>\n",
       "      <td>3</td>\n",
       "      <td>Lambrate</td>\n",
       "      <td>2006</td>\n",
       "      <td>2018-01-01T00:00:00</td>\n",
       "      <td>0.0</td>\n",
       "    </tr>\n",
       "    <tr>\n",
       "      <th>3</th>\n",
       "      <td>4</td>\n",
       "      <td>Zavattari</td>\n",
       "      <td>9341</td>\n",
       "      <td>2018-01-01T00:00:00</td>\n",
       "      <td>0.4</td>\n",
       "    </tr>\n",
       "    <tr>\n",
       "      <th>4</th>\n",
       "      <td>5</td>\n",
       "      <td>Rosellini</td>\n",
       "      <td>14121</td>\n",
       "      <td>2018-01-01T00:00:00</td>\n",
       "      <td>0.0</td>\n",
       "    </tr>\n",
       "  </tbody>\n",
       "</table>\n",
       "</div>"
      ],
      "text/plain": [
       "   _id       zona  id_sens             data_ora  val_cum\n",
       "0    1      Brera    19373  2018-01-01T00:00:00      0.2\n",
       "1    2     Juvara     5908  2018-01-01T00:00:00      0.0\n",
       "2    3   Lambrate     2006  2018-01-01T00:00:00      0.0\n",
       "3    4  Zavattari     9341  2018-01-01T00:00:00      0.4\n",
       "4    5  Rosellini    14121  2018-01-01T00:00:00      0.0"
      ]
     },
     "execution_count": 3,
     "metadata": {},
     "output_type": "execute_result"
    }
   ],
   "source": [
    "precip = precip.rename(columns= {'Tipo-Zone' : 'zona', 'Id Sensore' : 'id_sens', 'Data-Ora':'data_ora', 'Valore Cumulato' : 'val_cum'})\n",
    "precip.head()"
   ]
  },
  {
   "cell_type": "markdown",
   "metadata": {},
   "source": [
    "+ **Creare una mask di valori booleani rispetto alla condizione se un certo giorno è stato piovoso oppure no**"
   ]
  },
  {
   "cell_type": "code",
   "execution_count": 4,
   "metadata": {},
   "outputs": [
    {
     "name": "stdout",
     "output_type": "stream",
     "text": [
      "Giorni piovosi \n",
      " 0         True\n",
      "1        False\n",
      "2        False\n",
      "3         True\n",
      "4        False\n",
      "         ...  \n",
      "43680    False\n",
      "43681    False\n",
      "43682    False\n",
      "43683    False\n",
      "43684    False\n",
      "Name: val_cum, Length: 43685, dtype: bool\n"
     ]
    }
   ],
   "source": [
    "print(\"Giorni piovosi \\n\", precip['val_cum']> 0.0)"
   ]
  },
  {
   "cell_type": "markdown",
   "metadata": {},
   "source": [
    "+ **Ora calcoliamo alcune statistiche (le stesse dell’esempio del libro: media, mediana, max, min) per due casi:**\n",
    "1. **rispetto a tutto il data frame precip (giorni piovosi e non piovosi)**\n",
    "2. **solo rispetto ai giorni di pioggia**"
   ]
  },
  {
   "cell_type": "code",
   "execution_count": 5,
   "metadata": {},
   "outputs": [
    {
     "name": "stdout",
     "output_type": "stream",
     "text": [
      "Media di precipitazioni fra tutti i giorni del 2018 \n",
      " 0.10222748155366658\n",
      "Mediana di precipitazioni fra tutti i giorni del 2018 \n",
      " nan\n",
      "Massimo di precipitazioni fra tutti i giorni del 2018 \n",
      "  28.8\n",
      "Minimo di precipitazioni fra tutti i giorni del 2018 \n",
      " 0.0\n"
     ]
    }
   ],
   "source": [
    "print(\"Media di precipitazioni fra tutti i giorni del 2018 \\n\", np.mean(precip['val_cum'])) #1\n",
    "print(\"Mediana di precipitazioni fra tutti i giorni del 2018 \\n\", np.median(precip['val_cum']))\n",
    "print(\"Massimo di precipitazioni fra tutti i giorni del 2018 \\n \", np.max(precip['val_cum']))\n",
    "print(\"Minimo di precipitazioni fra tutti i giorni del 2018 \\n\", np.min(precip['val_cum']))"
   ]
  },
  {
   "cell_type": "code",
   "execution_count": 6,
   "metadata": {},
   "outputs": [
    {
     "name": "stdout",
     "output_type": "stream",
     "text": [
      "Media di precipitazioni fra i giorni piovosi del 2018 \n",
      " 1.2523592950539857\n",
      "Mediana di precipitazioni fra i giorni piovosi del 2018 \n",
      " 0.6\n",
      "Massimo di precipitazioni fra i giorni piovosi del 2018 \n",
      "  28.8\n",
      "Minimo di precipitazioni fra i giorni piovosi del 2018 \n",
      " 0.2\n"
     ]
    }
   ],
   "source": [
    "Giorni_piovosi = precip.loc[(precip['val_cum']> 0)] #2\n",
    "print(\"Media di precipitazioni fra i giorni piovosi del 2018 \\n\", np.mean(Giorni_piovosi['val_cum']))\n",
    "print(\"Mediana di precipitazioni fra i giorni piovosi del 2018 \\n\", np.median(Giorni_piovosi['val_cum']))\n",
    "print(\"Massimo di precipitazioni fra i giorni piovosi del 2018 \\n \", np.max(Giorni_piovosi['val_cum']))\n",
    "print(\"Minimo di precipitazioni fra i giorni piovosi del 2018 \\n\", np.min(Giorni_piovosi['val_cum']))"
   ]
  },
  {
   "cell_type": "markdown",
   "metadata": {},
   "source": [
    "+ **Perché usando giorni piovosi e non piovosi, il risultato della mediana è nan?** Il risultato è nan perché si trova in una posizione centrale.\n",
    "+ **Cosa vuol dire nan?** Nan significa valore mancante (missing), nei calcoli viene considerato come zero.\n",
    "+ **Differenza tra media e mediana?** La media è dato dalla somma di tutti i dati diviso il numero di casi analizzati. La mediana, al contrario, è il numero che compare in posizione centrale quando i dati vengono strutturati in ordine crescente.\n",
    "+ **Perché invece utilizzando solo i giorni piovosi la media cambia?** Nei giorni piovosi non è nan perché si ocnsiderano i valori oltre lo zero.\n",
    "+ **Perché la mediana in questo caso è 0.6 e non nan?** Uguale a sopra."
   ]
  },
  {
   "cell_type": "markdown",
   "metadata": {},
   "source": [
    "+ **Trovare una funzione ed eseguire il corrispondente comando che ci permetta di verificare se nella colonna valore (“valore” è come ho rinominato io la colonna con la piovosità del giorno) ci sono dei nan (questa funzione deve soltanto dirci se ci sono o non ci sono, rispetto la colonna però)**"
   ]
  },
  {
   "cell_type": "code",
   "execution_count": 7,
   "metadata": {},
   "outputs": [
    {
     "name": "stdout",
     "output_type": "stream",
     "text": [
      "Verificare se ci sono valori nan \n",
      " True\n"
     ]
    }
   ],
   "source": [
    "print(\"Verificare se ci sono valori nan \\n\", precip['val_cum'].isnull().values.any())"
   ]
  },
  {
   "cell_type": "markdown",
   "metadata": {},
   "source": [
    "+ **Trovare tutte le righe del dataframe precip che contengono un nan.**"
   ]
  },
  {
   "cell_type": "code",
   "execution_count": 8,
   "metadata": {},
   "outputs": [
    {
     "data": {
      "text/html": [
       "<div>\n",
       "<style scoped>\n",
       "    .dataframe tbody tr th:only-of-type {\n",
       "        vertical-align: middle;\n",
       "    }\n",
       "\n",
       "    .dataframe tbody tr th {\n",
       "        vertical-align: top;\n",
       "    }\n",
       "\n",
       "    .dataframe thead th {\n",
       "        text-align: right;\n",
       "    }\n",
       "</style>\n",
       "<table border=\"1\" class=\"dataframe\">\n",
       "  <thead>\n",
       "    <tr style=\"text-align: right;\">\n",
       "      <th></th>\n",
       "      <th>_id</th>\n",
       "      <th>zona</th>\n",
       "      <th>id_sens</th>\n",
       "      <th>data_ora</th>\n",
       "      <th>val_cum</th>\n",
       "    </tr>\n",
       "  </thead>\n",
       "  <tbody>\n",
       "    <tr>\n",
       "      <th>43</th>\n",
       "      <td>44</td>\n",
       "      <td>Zavattari</td>\n",
       "      <td>9341</td>\n",
       "      <td>2018-01-01T08:00:00</td>\n",
       "      <td>NaN</td>\n",
       "    </tr>\n",
       "    <tr>\n",
       "      <th>153</th>\n",
       "      <td>154</td>\n",
       "      <td>Zavattari</td>\n",
       "      <td>9341</td>\n",
       "      <td>2018-02-01T06:00:00</td>\n",
       "      <td>NaN</td>\n",
       "    </tr>\n",
       "    <tr>\n",
       "      <th>248</th>\n",
       "      <td>249</td>\n",
       "      <td>Zavattari</td>\n",
       "      <td>9341</td>\n",
       "      <td>2018-03-01T01:00:00</td>\n",
       "      <td>NaN</td>\n",
       "    </tr>\n",
       "    <tr>\n",
       "      <th>368</th>\n",
       "      <td>369</td>\n",
       "      <td>Zavattari</td>\n",
       "      <td>9341</td>\n",
       "      <td>2018-04-01T01:00:00</td>\n",
       "      <td>NaN</td>\n",
       "    </tr>\n",
       "    <tr>\n",
       "      <th>488</th>\n",
       "      <td>489</td>\n",
       "      <td>Zavattari</td>\n",
       "      <td>9341</td>\n",
       "      <td>2018-05-01T01:00:00</td>\n",
       "      <td>NaN</td>\n",
       "    </tr>\n",
       "    <tr>\n",
       "      <th>...</th>\n",
       "      <td>...</td>\n",
       "      <td>...</td>\n",
       "      <td>...</td>\n",
       "      <td>...</td>\n",
       "      <td>...</td>\n",
       "    </tr>\n",
       "    <tr>\n",
       "      <th>42966</th>\n",
       "      <td>42967</td>\n",
       "      <td>Juvara</td>\n",
       "      <td>5908</td>\n",
       "      <td>2018-12-25T01:00:00</td>\n",
       "      <td>NaN</td>\n",
       "    </tr>\n",
       "    <tr>\n",
       "      <th>42971</th>\n",
       "      <td>42972</td>\n",
       "      <td>Juvara</td>\n",
       "      <td>5908</td>\n",
       "      <td>2018-12-25T02:00:00</td>\n",
       "      <td>NaN</td>\n",
       "    </tr>\n",
       "    <tr>\n",
       "      <th>42976</th>\n",
       "      <td>42977</td>\n",
       "      <td>Juvara</td>\n",
       "      <td>5908</td>\n",
       "      <td>2018-12-25T03:00:00</td>\n",
       "      <td>NaN</td>\n",
       "    </tr>\n",
       "    <tr>\n",
       "      <th>42981</th>\n",
       "      <td>42982</td>\n",
       "      <td>Juvara</td>\n",
       "      <td>5908</td>\n",
       "      <td>2018-12-25T04:00:00</td>\n",
       "      <td>NaN</td>\n",
       "    </tr>\n",
       "    <tr>\n",
       "      <th>42986</th>\n",
       "      <td>42987</td>\n",
       "      <td>Juvara</td>\n",
       "      <td>5908</td>\n",
       "      <td>2018-12-25T05:00:00</td>\n",
       "      <td>NaN</td>\n",
       "    </tr>\n",
       "  </tbody>\n",
       "</table>\n",
       "<p>587 rows × 5 columns</p>\n",
       "</div>"
      ],
      "text/plain": [
       "         _id       zona  id_sens             data_ora  val_cum\n",
       "43        44  Zavattari     9341  2018-01-01T08:00:00      NaN\n",
       "153      154  Zavattari     9341  2018-02-01T06:00:00      NaN\n",
       "248      249  Zavattari     9341  2018-03-01T01:00:00      NaN\n",
       "368      369  Zavattari     9341  2018-04-01T01:00:00      NaN\n",
       "488      489  Zavattari     9341  2018-05-01T01:00:00      NaN\n",
       "...      ...        ...      ...                  ...      ...\n",
       "42966  42967     Juvara     5908  2018-12-25T01:00:00      NaN\n",
       "42971  42972     Juvara     5908  2018-12-25T02:00:00      NaN\n",
       "42976  42977     Juvara     5908  2018-12-25T03:00:00      NaN\n",
       "42981  42982     Juvara     5908  2018-12-25T04:00:00      NaN\n",
       "42986  42987     Juvara     5908  2018-12-25T05:00:00      NaN\n",
       "\n",
       "[587 rows x 5 columns]"
      ]
     },
     "execution_count": 8,
     "metadata": {},
     "output_type": "execute_result"
    }
   ],
   "source": [
    "precip[precip.isna().any (axis=1)]"
   ]
  },
  {
   "cell_type": "markdown",
   "metadata": {},
   "source": [
    "+ **Rimuovere da precip tutte le righe che hanno nan nella colonna valore e salvare il risultato come nuovo dataframe df1 (quindi ora avrò due dataframe: precip che contiene anche i nan; df1 che non contiene i nan)**"
   ]
  },
  {
   "cell_type": "code",
   "execution_count": 9,
   "metadata": {},
   "outputs": [
    {
     "data": {
      "text/html": [
       "<div>\n",
       "<style scoped>\n",
       "    .dataframe tbody tr th:only-of-type {\n",
       "        vertical-align: middle;\n",
       "    }\n",
       "\n",
       "    .dataframe tbody tr th {\n",
       "        vertical-align: top;\n",
       "    }\n",
       "\n",
       "    .dataframe thead th {\n",
       "        text-align: right;\n",
       "    }\n",
       "</style>\n",
       "<table border=\"1\" class=\"dataframe\">\n",
       "  <thead>\n",
       "    <tr style=\"text-align: right;\">\n",
       "      <th></th>\n",
       "      <th>_id</th>\n",
       "      <th>zona</th>\n",
       "      <th>id_sens</th>\n",
       "      <th>data_ora</th>\n",
       "      <th>val_cum</th>\n",
       "    </tr>\n",
       "  </thead>\n",
       "  <tbody>\n",
       "    <tr>\n",
       "      <th>0</th>\n",
       "      <td>1</td>\n",
       "      <td>Brera</td>\n",
       "      <td>19373</td>\n",
       "      <td>2018-01-01T00:00:00</td>\n",
       "      <td>0.2</td>\n",
       "    </tr>\n",
       "    <tr>\n",
       "      <th>1</th>\n",
       "      <td>2</td>\n",
       "      <td>Juvara</td>\n",
       "      <td>5908</td>\n",
       "      <td>2018-01-01T00:00:00</td>\n",
       "      <td>0.0</td>\n",
       "    </tr>\n",
       "    <tr>\n",
       "      <th>2</th>\n",
       "      <td>3</td>\n",
       "      <td>Lambrate</td>\n",
       "      <td>2006</td>\n",
       "      <td>2018-01-01T00:00:00</td>\n",
       "      <td>0.0</td>\n",
       "    </tr>\n",
       "    <tr>\n",
       "      <th>3</th>\n",
       "      <td>4</td>\n",
       "      <td>Zavattari</td>\n",
       "      <td>9341</td>\n",
       "      <td>2018-01-01T00:00:00</td>\n",
       "      <td>0.4</td>\n",
       "    </tr>\n",
       "    <tr>\n",
       "      <th>4</th>\n",
       "      <td>5</td>\n",
       "      <td>Rosellini</td>\n",
       "      <td>14121</td>\n",
       "      <td>2018-01-01T00:00:00</td>\n",
       "      <td>0.0</td>\n",
       "    </tr>\n",
       "  </tbody>\n",
       "</table>\n",
       "</div>"
      ],
      "text/plain": [
       "   _id       zona  id_sens             data_ora  val_cum\n",
       "0    1      Brera    19373  2018-01-01T00:00:00      0.2\n",
       "1    2     Juvara     5908  2018-01-01T00:00:00      0.0\n",
       "2    3   Lambrate     2006  2018-01-01T00:00:00      0.0\n",
       "3    4  Zavattari     9341  2018-01-01T00:00:00      0.4\n",
       "4    5  Rosellini    14121  2018-01-01T00:00:00      0.0"
      ]
     },
     "execution_count": 9,
     "metadata": {},
     "output_type": "execute_result"
    }
   ],
   "source": [
    "df1 = precip.dropna()\n",
    "df1.head()"
   ]
  },
  {
   "cell_type": "markdown",
   "metadata": {},
   "source": [
    "+ **Calcolare di nuovo la mediana sul dataframe df1, che ha giorni di pioggia e non piovosi ma non ha più i nan**"
   ]
  },
  {
   "cell_type": "code",
   "execution_count": 10,
   "metadata": {},
   "outputs": [
    {
     "name": "stdout",
     "output_type": "stream",
     "text": [
      "Mediana di precipitazioni fra tutti i giorni del 2018 \n",
      " 0.0\n"
     ]
    }
   ],
   "source": [
    "print(\"Mediana di precipitazioni fra tutti i giorni del 2018 \\n\", np.median(df1['val_cum']))"
   ]
  },
  {
   "cell_type": "markdown",
   "metadata": {},
   "source": [
    "+ **Ora vogliamo sapere: quanti giorni hanno avuto piovosità a 0.0, quanti a 0.1, a 0.2 etc. per tutti i valori presenti. Vogliamo anche sapere quanti giorni hanno nan come valore. Calcolare statistiche per i due gruppi separatamente (ad esempio quanti uomini e quante donne, altezza media degli uomini, altezza media delle donne)**"
   ]
  },
  {
   "cell_type": "code",
   "execution_count": 11,
   "metadata": {},
   "outputs": [
    {
     "name": "stdout",
     "output_type": "stream",
     "text": [
      "Giorni piovosità uguale a 0.0 \n",
      " 39580\n",
      "Giorni di piovosità uguali a 0.1 \n",
      " 0\n",
      "Giorni di piovosità uguali a 0.2 \n",
      " 1075\n"
     ]
    }
   ],
   "source": [
    "print(\"Giorni piovosità uguale a 0.0 \\n\", np.sum(precip['val_cum'] == 0.0))\n",
    "print(\"Giorni di piovosità uguali a 0.1 \\n\", np.sum(precip['val_cum'] == 0.1))\n",
    "print(\"Giorni di piovosità uguali a 0.2 \\n\", np.sum(precip['val_cum'] == 0.2))"
   ]
  },
  {
   "cell_type": "code",
   "execution_count": 12,
   "metadata": {},
   "outputs": [
    {
     "name": "stdout",
     "output_type": "stream",
     "text": [
      "Quanti giorni hanno nan come valore \n",
      " 4405.8\n"
     ]
    }
   ],
   "source": [
    "print(\"Quanti giorni hanno nan come valore \\n\", np.nansum(precip['val_cum']))"
   ]
  },
  {
   "cell_type": "code",
   "execution_count": 13,
   "metadata": {},
   "outputs": [
    {
     "data": {
      "text/html": [
       "<div>\n",
       "<style scoped>\n",
       "    .dataframe tbody tr th:only-of-type {\n",
       "        vertical-align: middle;\n",
       "    }\n",
       "\n",
       "    .dataframe tbody tr th {\n",
       "        vertical-align: top;\n",
       "    }\n",
       "\n",
       "    .dataframe thead th {\n",
       "        text-align: right;\n",
       "    }\n",
       "</style>\n",
       "<table border=\"1\" class=\"dataframe\">\n",
       "  <thead>\n",
       "    <tr style=\"text-align: right;\">\n",
       "      <th></th>\n",
       "      <th>_id</th>\n",
       "      <th>zona</th>\n",
       "      <th>id_sens</th>\n",
       "      <th>data_ora</th>\n",
       "    </tr>\n",
       "    <tr>\n",
       "      <th>val_cum</th>\n",
       "      <th></th>\n",
       "      <th></th>\n",
       "      <th></th>\n",
       "      <th></th>\n",
       "    </tr>\n",
       "  </thead>\n",
       "  <tbody>\n",
       "    <tr>\n",
       "      <th>0.0</th>\n",
       "      <td>39580</td>\n",
       "      <td>39580</td>\n",
       "      <td>39580</td>\n",
       "      <td>39580</td>\n",
       "    </tr>\n",
       "    <tr>\n",
       "      <th>0.2</th>\n",
       "      <td>1075</td>\n",
       "      <td>1075</td>\n",
       "      <td>1075</td>\n",
       "      <td>1075</td>\n",
       "    </tr>\n",
       "    <tr>\n",
       "      <th>0.4</th>\n",
       "      <td>480</td>\n",
       "      <td>480</td>\n",
       "      <td>480</td>\n",
       "      <td>480</td>\n",
       "    </tr>\n",
       "    <tr>\n",
       "      <th>0.6</th>\n",
       "      <td>326</td>\n",
       "      <td>326</td>\n",
       "      <td>326</td>\n",
       "      <td>326</td>\n",
       "    </tr>\n",
       "    <tr>\n",
       "      <th>0.8</th>\n",
       "      <td>291</td>\n",
       "      <td>291</td>\n",
       "      <td>291</td>\n",
       "      <td>291</td>\n",
       "    </tr>\n",
       "    <tr>\n",
       "      <th>...</th>\n",
       "      <td>...</td>\n",
       "      <td>...</td>\n",
       "      <td>...</td>\n",
       "      <td>...</td>\n",
       "    </tr>\n",
       "    <tr>\n",
       "      <th>18.4</th>\n",
       "      <td>1</td>\n",
       "      <td>1</td>\n",
       "      <td>1</td>\n",
       "      <td>1</td>\n",
       "    </tr>\n",
       "    <tr>\n",
       "      <th>20.6</th>\n",
       "      <td>1</td>\n",
       "      <td>1</td>\n",
       "      <td>1</td>\n",
       "      <td>1</td>\n",
       "    </tr>\n",
       "    <tr>\n",
       "      <th>24.0</th>\n",
       "      <td>1</td>\n",
       "      <td>1</td>\n",
       "      <td>1</td>\n",
       "      <td>1</td>\n",
       "    </tr>\n",
       "    <tr>\n",
       "      <th>26.2</th>\n",
       "      <td>1</td>\n",
       "      <td>1</td>\n",
       "      <td>1</td>\n",
       "      <td>1</td>\n",
       "    </tr>\n",
       "    <tr>\n",
       "      <th>28.8</th>\n",
       "      <td>1</td>\n",
       "      <td>1</td>\n",
       "      <td>1</td>\n",
       "      <td>1</td>\n",
       "    </tr>\n",
       "  </tbody>\n",
       "</table>\n",
       "<p>65 rows × 4 columns</p>\n",
       "</div>"
      ],
      "text/plain": [
       "           _id   zona  id_sens  data_ora\n",
       "val_cum                                 \n",
       "0.0      39580  39580    39580     39580\n",
       "0.2       1075   1075     1075      1075\n",
       "0.4        480    480      480       480\n",
       "0.6        326    326      326       326\n",
       "0.8        291    291      291       291\n",
       "...        ...    ...      ...       ...\n",
       "18.4         1      1        1         1\n",
       "20.6         1      1        1         1\n",
       "24.0         1      1        1         1\n",
       "26.2         1      1        1         1\n",
       "28.8         1      1        1         1\n",
       "\n",
       "[65 rows x 4 columns]"
      ]
     },
     "execution_count": 13,
     "metadata": {},
     "output_type": "execute_result"
    }
   ],
   "source": [
    "precip.groupby(precip['val_cum']).count() #oppure con group_by"
   ]
  },
  {
   "cell_type": "markdown",
   "metadata": {},
   "source": [
    "+ **Domanda: E i nan? Come si contano le righe che hanno nan nella colonna valore**"
   ]
  },
  {
   "cell_type": "code",
   "execution_count": 14,
   "metadata": {},
   "outputs": [
    {
     "data": {
      "text/plain": [
       "587"
      ]
     },
     "execution_count": 14,
     "metadata": {},
     "output_type": "execute_result"
    }
   ],
   "source": [
    "precip['val_cum'].isna().sum()"
   ]
  }
 ],
 "metadata": {
  "kernelspec": {
   "display_name": "Python 3",
   "language": "python",
   "name": "python3"
  },
  "language_info": {
   "codemirror_mode": {
    "name": "ipython",
    "version": 3
   },
   "file_extension": ".py",
   "mimetype": "text/x-python",
   "name": "python",
   "nbconvert_exporter": "python",
   "pygments_lexer": "ipython3",
   "version": "3.8.3"
  }
 },
 "nbformat": 4,
 "nbformat_minor": 4
}
