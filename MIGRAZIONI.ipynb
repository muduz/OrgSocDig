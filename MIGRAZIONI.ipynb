{
 "cells": [
  {
   "cell_type": "markdown",
   "metadata": {},
   "source": [
    "# ANALISI DEI FLUSSI MIGRATORI IN ITALIA\n",
    "* * *"
   ]
  },
  {
   "cell_type": "markdown",
   "metadata": {},
   "source": [
    "A tutti è noto il fenomeno della migrazione: le persone sono spinte per vari motivi a spostarsi tra Paesi, come ad esempio per lavoro, per amore o per necessità a causa di contesti di guerra, problemi climatici o politici. Il fenomeno di carattere sociale è studiato da numerosi sociologi e politologi; ne risulta che è molto controverso e sostenuto e/o criticato (a seconda dei punti di vista); in Italia è un argomento che suscita non poche polemiche, soprattutto a livello politico."
   ]
  },
  {
   "cell_type": "markdown",
   "metadata": {},
   "source": [
    "**OBBIETTIVO**: la seguente analisi ha come obbiettivo quello di evidenziare la presenza di fenomeni migratori verso il nostro Paese mettendone in luce i *numeri*, i *motivi* e le *conseguenze* che possono derivarne."
   ]
  },
  {
   "cell_type": "markdown",
   "metadata": {},
   "source": [
    "**I DATI**: la fonte dei dati è l'ISTAT, che si occupa, tramite una sezione dedicata (Immigrati.Stat), di raccogliere numeri a proposito del fenomeno nelle sue varie sfaccettature."
   ]
  },
  {
   "cell_type": "markdown",
   "metadata": {},
   "source": [
    "+ **Importo le librerie**"
   ]
  },
  {
   "cell_type": "code",
   "execution_count": 91,
   "metadata": {},
   "outputs": [],
   "source": [
    "import numpy as np\n",
    "import pandas as pd\n",
    "import seaborn as sns; sns.set()\n",
    "import matplotlib\n",
    "import matplotlib.pyplot as plt"
   ]
  },
  {
   "cell_type": "markdown",
   "metadata": {},
   "source": [
    "> ## ANALISI\n",
    "***"
   ]
  },
  {
   "cell_type": "markdown",
   "metadata": {},
   "source": [
    "In questa parte andremo ad **analizzare** i dati forniti dall'ISTAT mettendo in evidenza i punti salienti con dei brevi commenti e dei grafici. Partiremo dal numero delle persone straniere residenti in Italia, i motivi per i quali si trovano nel nostro Paese, i tassi di occupazione e disoccupazione, possibili aspetti positivi e negativi e le loro condizioni sociali. "
   ]
  },
  {
   "cell_type": "markdown",
   "metadata": {},
   "source": [
    "+ **PUNTO 1: NUMERO MIGRANTI RESIDENTI IN ITALIA nei recenti anni**"
   ]
  },
  {
   "cell_type": "markdown",
   "metadata": {},
   "source": [
    "**QUANTI SONO? SONO IN AUMENTO?**"
   ]
  },
  {
   "cell_type": "markdown",
   "metadata": {},
   "source": [
    "Per prima cosa importo il dataframe della popolazione straniera residente in italia suddivisa per anni (2017, 2018, 2019), sesso e regione. Si utilizzano gli ultimi tre anni resi disponibili dall'ISTAT per semplicità e come punto di riferimento."
   ]
  },
  {
   "cell_type": "markdown",
   "metadata": {},
   "source": [
    "**TRATTAMENTO DEI VALORI NULLI: CI SONO? COME LI GESTISCO?**"
   ]
  },
  {
   "cell_type": "code",
   "execution_count": 2,
   "metadata": {},
   "outputs": [
    {
     "data": {
      "text/plain": [
       "Territorio                        False\n",
       "Tipo di indicatore demografico    False\n",
       "Sesso                             False\n",
       "Seleziona periodo                 False\n",
       "Value                             False\n",
       "dtype: bool"
      ]
     },
     "execution_count": 2,
     "metadata": {},
     "output_type": "execute_result"
    }
   ],
   "source": [
    "residenti_totale = pd.read_csv(r\"C:/Users/Utente/Desktop/DATI_PROGETTO/stranieri/stranieri_residenti.csv\", usecols=['Territorio', 'Tipo di indicatore demografico', 'Sesso', 'Seleziona periodo', 'Value'])\n",
    "residenti_totale.isnull().any() #non sono presenti valori nulli"
   ]
  },
  {
   "cell_type": "markdown",
   "metadata": {},
   "source": [
    "Visualizzo la tabella dei residenti rinominando le colonne per semplicità."
   ]
  },
  {
   "cell_type": "code",
   "execution_count": 162,
   "metadata": {},
   "outputs": [
    {
     "data": {
      "text/html": [
       "<div>\n",
       "<style scoped>\n",
       "    .dataframe tbody tr th:only-of-type {\n",
       "        vertical-align: middle;\n",
       "    }\n",
       "\n",
       "    .dataframe tbody tr th {\n",
       "        vertical-align: top;\n",
       "    }\n",
       "\n",
       "    .dataframe thead th {\n",
       "        text-align: right;\n",
       "    }\n",
       "</style>\n",
       "<table border=\"1\" class=\"dataframe\">\n",
       "  <thead>\n",
       "    <tr style=\"text-align: right;\">\n",
       "      <th></th>\n",
       "      <th>Territorio</th>\n",
       "      <th>index</th>\n",
       "      <th>Sesso</th>\n",
       "      <th>periodo</th>\n",
       "      <th>valore</th>\n",
       "    </tr>\n",
       "  </thead>\n",
       "  <tbody>\n",
       "    <tr>\n",
       "      <th>0</th>\n",
       "      <td>Italia</td>\n",
       "      <td>popolazione straniera al 1° gennaio</td>\n",
       "      <td>maschi</td>\n",
       "      <td>2017</td>\n",
       "      <td>2404129</td>\n",
       "    </tr>\n",
       "    <tr>\n",
       "      <th>1</th>\n",
       "      <td>Italia</td>\n",
       "      <td>popolazione straniera al 1° gennaio</td>\n",
       "      <td>maschi</td>\n",
       "      <td>2018</td>\n",
       "      <td>2471722</td>\n",
       "    </tr>\n",
       "    <tr>\n",
       "      <th>2</th>\n",
       "      <td>Italia</td>\n",
       "      <td>popolazione straniera al 1° gennaio</td>\n",
       "      <td>maschi</td>\n",
       "      <td>2019</td>\n",
       "      <td>2540471</td>\n",
       "    </tr>\n",
       "    <tr>\n",
       "      <th>3</th>\n",
       "      <td>Italia</td>\n",
       "      <td>nati vivi stranieri</td>\n",
       "      <td>maschi</td>\n",
       "      <td>2017</td>\n",
       "      <td>34883</td>\n",
       "    </tr>\n",
       "    <tr>\n",
       "      <th>4</th>\n",
       "      <td>Italia</td>\n",
       "      <td>nati vivi stranieri</td>\n",
       "      <td>maschi</td>\n",
       "      <td>2018</td>\n",
       "      <td>33671</td>\n",
       "    </tr>\n",
       "  </tbody>\n",
       "</table>\n",
       "</div>"
      ],
      "text/plain": [
       "  Territorio                                index   Sesso  periodo   valore\n",
       "0     Italia  popolazione straniera al 1° gennaio  maschi     2017  2404129\n",
       "1     Italia  popolazione straniera al 1° gennaio  maschi     2018  2471722\n",
       "2     Italia  popolazione straniera al 1° gennaio  maschi     2019  2540471\n",
       "3     Italia                  nati vivi stranieri  maschi     2017    34883\n",
       "4     Italia                  nati vivi stranieri  maschi     2018    33671"
      ]
     },
     "execution_count": 162,
     "metadata": {},
     "output_type": "execute_result"
    }
   ],
   "source": [
    "residenti_totale = residenti_totale.rename(columns= {'Tipo di indicatore demografico' : 'index', 'Seleziona periodo' : 'periodo', 'Value':'valore'})\n",
    "residenti_totale.head()"
   ]
  },
  {
   "cell_type": "markdown",
   "metadata": {},
   "source": [
    "Successivamente seleziono le righe contentente il numero totale di popolazione residente al 31 dicembre e creo un dataframe per ogni anno."
   ]
  },
  {
   "cell_type": "code",
   "execution_count": 4,
   "metadata": {},
   "outputs": [
    {
     "data": {
      "text/html": [
       "<div>\n",
       "<style scoped>\n",
       "    .dataframe tbody tr th:only-of-type {\n",
       "        vertical-align: middle;\n",
       "    }\n",
       "\n",
       "    .dataframe tbody tr th {\n",
       "        vertical-align: top;\n",
       "    }\n",
       "\n",
       "    .dataframe thead th {\n",
       "        text-align: right;\n",
       "    }\n",
       "</style>\n",
       "<table border=\"1\" class=\"dataframe\">\n",
       "  <thead>\n",
       "    <tr style=\"text-align: right;\">\n",
       "      <th></th>\n",
       "      <th>Territorio</th>\n",
       "      <th>index</th>\n",
       "      <th>Sesso</th>\n",
       "      <th>periodo</th>\n",
       "      <th>valore</th>\n",
       "    </tr>\n",
       "  </thead>\n",
       "  <tbody>\n",
       "    <tr>\n",
       "      <th>9657</th>\n",
       "      <td>Italia</td>\n",
       "      <td>popolazione straniera al 31 dicembre</td>\n",
       "      <td>totale</td>\n",
       "      <td>2017</td>\n",
       "      <td>5144440</td>\n",
       "    </tr>\n",
       "    <tr>\n",
       "      <th>9658</th>\n",
       "      <td>Italia</td>\n",
       "      <td>popolazione straniera al 31 dicembre</td>\n",
       "      <td>totale</td>\n",
       "      <td>2018</td>\n",
       "      <td>5255503</td>\n",
       "    </tr>\n",
       "    <tr>\n",
       "      <th>9659</th>\n",
       "      <td>Italia</td>\n",
       "      <td>popolazione straniera al 31 dicembre</td>\n",
       "      <td>totale</td>\n",
       "      <td>2019</td>\n",
       "      <td>5306548</td>\n",
       "    </tr>\n",
       "  </tbody>\n",
       "</table>\n",
       "</div>"
      ],
      "text/plain": [
       "     Territorio                                 index   Sesso  periodo  \\\n",
       "9657     Italia  popolazione straniera al 31 dicembre  totale     2017   \n",
       "9658     Italia  popolazione straniera al 31 dicembre  totale     2018   \n",
       "9659     Italia  popolazione straniera al 31 dicembre  totale     2019   \n",
       "\n",
       "       valore  \n",
       "9657  5144440  \n",
       "9658  5255503  \n",
       "9659  5306548  "
      ]
     },
     "execution_count": 4,
     "metadata": {},
     "output_type": "execute_result"
    }
   ],
   "source": [
    "residenti = residenti_totale.loc[(residenti_totale['index']== 'popolazione straniera al 31 dicembre')]\n",
    "residenti = residenti.loc[(residenti['Territorio'] == 'Italia')]\n",
    "residenti = residenti.loc[(residenti['Sesso']== 'totale')]\n",
    "residenti"
   ]
  },
  {
   "cell_type": "code",
   "execution_count": 5,
   "metadata": {},
   "outputs": [
    {
     "data": {
      "text/html": [
       "<div>\n",
       "<style scoped>\n",
       "    .dataframe tbody tr th:only-of-type {\n",
       "        vertical-align: middle;\n",
       "    }\n",
       "\n",
       "    .dataframe tbody tr th {\n",
       "        vertical-align: top;\n",
       "    }\n",
       "\n",
       "    .dataframe thead th {\n",
       "        text-align: right;\n",
       "    }\n",
       "</style>\n",
       "<table border=\"1\" class=\"dataframe\">\n",
       "  <thead>\n",
       "    <tr style=\"text-align: right;\">\n",
       "      <th></th>\n",
       "      <th>Territorio</th>\n",
       "      <th>index</th>\n",
       "      <th>Sesso</th>\n",
       "      <th>periodo</th>\n",
       "      <th>valore</th>\n",
       "    </tr>\n",
       "  </thead>\n",
       "  <tbody>\n",
       "    <tr>\n",
       "      <th>9657</th>\n",
       "      <td>Italia</td>\n",
       "      <td>popolazione straniera al 31 dicembre</td>\n",
       "      <td>totale</td>\n",
       "      <td>2017</td>\n",
       "      <td>5144440</td>\n",
       "    </tr>\n",
       "  </tbody>\n",
       "</table>\n",
       "</div>"
      ],
      "text/plain": [
       "     Territorio                                 index   Sesso  periodo  \\\n",
       "9657     Italia  popolazione straniera al 31 dicembre  totale     2017   \n",
       "\n",
       "       valore  \n",
       "9657  5144440  "
      ]
     },
     "execution_count": 5,
     "metadata": {},
     "output_type": "execute_result"
    }
   ],
   "source": [
    "residenti_2017 = residenti.iloc[0:1]\n",
    "residenti_2017.head()"
   ]
  },
  {
   "cell_type": "code",
   "execution_count": 6,
   "metadata": {},
   "outputs": [
    {
     "data": {
      "text/html": [
       "<div>\n",
       "<style scoped>\n",
       "    .dataframe tbody tr th:only-of-type {\n",
       "        vertical-align: middle;\n",
       "    }\n",
       "\n",
       "    .dataframe tbody tr th {\n",
       "        vertical-align: top;\n",
       "    }\n",
       "\n",
       "    .dataframe thead th {\n",
       "        text-align: right;\n",
       "    }\n",
       "</style>\n",
       "<table border=\"1\" class=\"dataframe\">\n",
       "  <thead>\n",
       "    <tr style=\"text-align: right;\">\n",
       "      <th></th>\n",
       "      <th>Territorio</th>\n",
       "      <th>index</th>\n",
       "      <th>Sesso</th>\n",
       "      <th>periodo</th>\n",
       "      <th>valore</th>\n",
       "    </tr>\n",
       "  </thead>\n",
       "  <tbody>\n",
       "    <tr>\n",
       "      <th>9658</th>\n",
       "      <td>Italia</td>\n",
       "      <td>popolazione straniera al 31 dicembre</td>\n",
       "      <td>totale</td>\n",
       "      <td>2018</td>\n",
       "      <td>5255503</td>\n",
       "    </tr>\n",
       "  </tbody>\n",
       "</table>\n",
       "</div>"
      ],
      "text/plain": [
       "     Territorio                                 index   Sesso  periodo  \\\n",
       "9658     Italia  popolazione straniera al 31 dicembre  totale     2018   \n",
       "\n",
       "       valore  \n",
       "9658  5255503  "
      ]
     },
     "execution_count": 6,
     "metadata": {},
     "output_type": "execute_result"
    }
   ],
   "source": [
    "residenti_2018 = residenti.iloc[1:-1]\n",
    "residenti_2018.head()"
   ]
  },
  {
   "cell_type": "code",
   "execution_count": 7,
   "metadata": {},
   "outputs": [
    {
     "data": {
      "text/html": [
       "<div>\n",
       "<style scoped>\n",
       "    .dataframe tbody tr th:only-of-type {\n",
       "        vertical-align: middle;\n",
       "    }\n",
       "\n",
       "    .dataframe tbody tr th {\n",
       "        vertical-align: top;\n",
       "    }\n",
       "\n",
       "    .dataframe thead th {\n",
       "        text-align: right;\n",
       "    }\n",
       "</style>\n",
       "<table border=\"1\" class=\"dataframe\">\n",
       "  <thead>\n",
       "    <tr style=\"text-align: right;\">\n",
       "      <th></th>\n",
       "      <th>Territorio</th>\n",
       "      <th>index</th>\n",
       "      <th>Sesso</th>\n",
       "      <th>periodo</th>\n",
       "      <th>valore</th>\n",
       "    </tr>\n",
       "  </thead>\n",
       "  <tbody>\n",
       "    <tr>\n",
       "      <th>9659</th>\n",
       "      <td>Italia</td>\n",
       "      <td>popolazione straniera al 31 dicembre</td>\n",
       "      <td>totale</td>\n",
       "      <td>2019</td>\n",
       "      <td>5306548</td>\n",
       "    </tr>\n",
       "  </tbody>\n",
       "</table>\n",
       "</div>"
      ],
      "text/plain": [
       "     Territorio                                 index   Sesso  periodo  \\\n",
       "9659     Italia  popolazione straniera al 31 dicembre  totale     2019   \n",
       "\n",
       "       valore  \n",
       "9659  5306548  "
      ]
     },
     "execution_count": 7,
     "metadata": {},
     "output_type": "execute_result"
    }
   ],
   "source": [
    "residenti_2019 = residenti.iloc[2:]\n",
    "residenti_2019.head()"
   ]
  },
  {
   "cell_type": "markdown",
   "metadata": {},
   "source": [
    "#### Visioniamo la variazione di persone straniere residenti in Italia dal 2017 al 2019. Nel 2017 la popolazione straniera residente era pari a 5144440, nel 2018 era 5255503 e nel 2019 era 5306548. Il numero è in leggero aumento ma non in modo significativo."
   ]
  },
  {
   "cell_type": "markdown",
   "metadata": {},
   "source": [
    "Vogliamo visualizzare graficamente questo leggero aumento."
   ]
  },
  {
   "cell_type": "code",
   "execution_count": 80,
   "metadata": {},
   "outputs": [
    {
     "data": {
      "text/plain": [
       "<matplotlib.axes._subplots.AxesSubplot at 0x17382183310>"
      ]
     },
     "execution_count": 80,
     "metadata": {},
     "output_type": "execute_result"
    },
    {
     "data": {
      "image/png": "[encoded data removed]",
      "text/plain": [
       "<Figure size 432x288 with 1 Axes>"
      ]
     },
     "metadata": {},
     "output_type": "display_data"
    }
   ],
   "source": [
    "sns.pointplot(data=residenti, x='periodo', y='valore')"
   ]
  },
  {
   "cell_type": "markdown",
   "metadata": {},
   "source": [
    "+ **PUNTO 2: PER QUALI MOTIVI LE PERSONE MIGRANO IN ITALIA (esempio 2018)**"
   ]
  },
  {
   "cell_type": "markdown",
   "metadata": {},
   "source": [
    "L'ISTAT fornisce annualmente i dati sui permessi di soggiorno; viene utilizzato il dataframe del 2018 come esempio più recente. Il permesso di soggiorno è utile in quanto mi consente di estrapolare i motivi per i quali i richiedenti si trovano in Italia."
   ]
  },
  {
   "cell_type": "markdown",
   "metadata": {},
   "source": [
    "**TRATTAMENTO DEI VALORI NULLI: CI SONO? COME LI GESTISCO?**"
   ]
  },
  {
   "cell_type": "code",
   "execution_count": 9,
   "metadata": {},
   "outputs": [
    {
     "data": {
      "text/plain": [
       "Sesso                               False\n",
       "Principali Paesi di cittadinanza    False\n",
       "Motivo del permesso                 False\n",
       "Seleziona periodo                   False\n",
       "Value                               False\n",
       "dtype: bool"
      ]
     },
     "execution_count": 9,
     "metadata": {},
     "output_type": "execute_result"
    }
   ],
   "source": [
    "permesso_sogg = pd.read_csv(r\"C:/Users/Utente/Desktop/DATI_PROGETTO/stranieri/permesso_soggiorno.csv\", usecols=['Sesso','Principali Paesi di cittadinanza', 'Motivo del permesso', 'Seleziona periodo', 'Value'])\n",
    "permesso_sogg.isnull().any() #non sono presenti valori nulli"
   ]
  },
  {
   "cell_type": "markdown",
   "metadata": {},
   "source": [
    "Visualizzo il dataframe rinominando per comodità le variabili."
   ]
  },
  {
   "cell_type": "code",
   "execution_count": 163,
   "metadata": {},
   "outputs": [
    {
     "data": {
      "text/html": [
       "<div>\n",
       "<style scoped>\n",
       "    .dataframe tbody tr th:only-of-type {\n",
       "        vertical-align: middle;\n",
       "    }\n",
       "\n",
       "    .dataframe tbody tr th {\n",
       "        vertical-align: top;\n",
       "    }\n",
       "\n",
       "    .dataframe thead th {\n",
       "        text-align: right;\n",
       "    }\n",
       "</style>\n",
       "<table border=\"1\" class=\"dataframe\">\n",
       "  <thead>\n",
       "    <tr style=\"text-align: right;\">\n",
       "      <th></th>\n",
       "      <th>Sesso</th>\n",
       "      <th>paese_cittadinanza</th>\n",
       "      <th>motivo_permesso</th>\n",
       "      <th>Seleziona periodo</th>\n",
       "      <th>valore</th>\n",
       "    </tr>\n",
       "  </thead>\n",
       "  <tbody>\n",
       "    <tr>\n",
       "      <th>0</th>\n",
       "      <td>maschi</td>\n",
       "      <td>Albania</td>\n",
       "      <td>lavoro</td>\n",
       "      <td>2018</td>\n",
       "      <td>1384</td>\n",
       "    </tr>\n",
       "    <tr>\n",
       "      <th>1</th>\n",
       "      <td>maschi</td>\n",
       "      <td>Albania</td>\n",
       "      <td>famiglia</td>\n",
       "      <td>2018</td>\n",
       "      <td>6964</td>\n",
       "    </tr>\n",
       "    <tr>\n",
       "      <th>2</th>\n",
       "      <td>maschi</td>\n",
       "      <td>Albania</td>\n",
       "      <td>studio</td>\n",
       "      <td>2018</td>\n",
       "      <td>205</td>\n",
       "    </tr>\n",
       "    <tr>\n",
       "      <th>3</th>\n",
       "      <td>maschi</td>\n",
       "      <td>Albania</td>\n",
       "      <td>asilo, richiesta asilo e motivi umanitari</td>\n",
       "      <td>2018</td>\n",
       "      <td>426</td>\n",
       "    </tr>\n",
       "    <tr>\n",
       "      <th>4</th>\n",
       "      <td>maschi</td>\n",
       "      <td>Albania</td>\n",
       "      <td>residenza elettiva, religione, salute</td>\n",
       "      <td>2018</td>\n",
       "      <td>2570</td>\n",
       "    </tr>\n",
       "  </tbody>\n",
       "</table>\n",
       "</div>"
      ],
      "text/plain": [
       "    Sesso paese_cittadinanza                            motivo_permesso  \\\n",
       "0  maschi            Albania                                     lavoro   \n",
       "1  maschi            Albania                                   famiglia   \n",
       "2  maschi            Albania                                     studio   \n",
       "3  maschi            Albania  asilo, richiesta asilo e motivi umanitari   \n",
       "4  maschi            Albania      residenza elettiva, religione, salute   \n",
       "\n",
       "   Seleziona periodo  valore  \n",
       "0               2018    1384  \n",
       "1               2018    6964  \n",
       "2               2018     205  \n",
       "3               2018     426  \n",
       "4               2018    2570  "
      ]
     },
     "execution_count": 163,
     "metadata": {},
     "output_type": "execute_result"
    }
   ],
   "source": [
    "permesso_sogg = permesso_sogg.rename(columns= {'Principali Paesi di cittadinanza' : 'paese_cittadinanza', 'Motivo del permesso' : 'motivo_permesso', 'Value' : 'valore'})\n",
    "permesso_sogg.head()"
   ]
  },
  {
   "cell_type": "markdown",
   "metadata": {},
   "source": [
    "Con la funzione pivot_table() creo una tabella coerente e ordinata nel quale visualizzo i valori per tipologia di permesso e suddivisi per provenienza geografica (seleziono solo i Paesi con un numero significativo)."
   ]
  },
  {
   "cell_type": "code",
   "execution_count": 14,
   "metadata": {},
   "outputs": [
    {
     "data": {
      "text/html": [
       "<div>\n",
       "<style scoped>\n",
       "    .dataframe tbody tr th:only-of-type {\n",
       "        vertical-align: middle;\n",
       "    }\n",
       "\n",
       "    .dataframe tbody tr th {\n",
       "        vertical-align: top;\n",
       "    }\n",
       "\n",
       "    .dataframe thead th {\n",
       "        text-align: right;\n",
       "    }\n",
       "</style>\n",
       "<table border=\"1\" class=\"dataframe\">\n",
       "  <thead>\n",
       "    <tr style=\"text-align: right;\">\n",
       "      <th>motivo_permesso</th>\n",
       "      <th>asilo, richiesta asilo e motivi umanitari</th>\n",
       "      <th>famiglia</th>\n",
       "      <th>lavoro</th>\n",
       "      <th>residenza elettiva, religione, salute</th>\n",
       "      <th>studio</th>\n",
       "      <th>tutte le voci</th>\n",
       "    </tr>\n",
       "    <tr>\n",
       "      <th>paese_cittadinanza</th>\n",
       "      <th></th>\n",
       "      <th></th>\n",
       "      <th></th>\n",
       "      <th></th>\n",
       "      <th></th>\n",
       "      <th></th>\n",
       "    </tr>\n",
       "  </thead>\n",
       "  <tbody>\n",
       "    <tr>\n",
       "      <th>Albania</th>\n",
       "      <td>18.503704</td>\n",
       "      <td>329.503876</td>\n",
       "      <td>43.738854</td>\n",
       "      <td>103.892761</td>\n",
       "      <td>17.924370</td>\n",
       "      <td>484.056266</td>\n",
       "    </tr>\n",
       "    <tr>\n",
       "      <th>Bangladesh</th>\n",
       "      <td>184.975610</td>\n",
       "      <td>145.247813</td>\n",
       "      <td>3.757009</td>\n",
       "      <td>12.022727</td>\n",
       "      <td>3.690141</td>\n",
       "      <td>280.339523</td>\n",
       "    </tr>\n",
       "    <tr>\n",
       "      <th>Cina</th>\n",
       "      <td>14.647059</td>\n",
       "      <td>118.894737</td>\n",
       "      <td>20.452489</td>\n",
       "      <td>14.896907</td>\n",
       "      <td>127.212544</td>\n",
       "      <td>235.989637</td>\n",
       "    </tr>\n",
       "    <tr>\n",
       "      <th>India</th>\n",
       "      <td>18.218009</td>\n",
       "      <td>170.374332</td>\n",
       "      <td>72.244224</td>\n",
       "      <td>20.382979</td>\n",
       "      <td>64.615385</td>\n",
       "      <td>284.062338</td>\n",
       "    </tr>\n",
       "    <tr>\n",
       "      <th>Marocco</th>\n",
       "      <td>34.644970</td>\n",
       "      <td>344.753181</td>\n",
       "      <td>25.993902</td>\n",
       "      <td>19.539936</td>\n",
       "      <td>13.497143</td>\n",
       "      <td>417.816794</td>\n",
       "    </tr>\n",
       "    <tr>\n",
       "      <th>Nigeria</th>\n",
       "      <td>240.536082</td>\n",
       "      <td>61.989529</td>\n",
       "      <td>2.961538</td>\n",
       "      <td>19.572881</td>\n",
       "      <td>11.175676</td>\n",
       "      <td>319.856410</td>\n",
       "    </tr>\n",
       "    <tr>\n",
       "      <th>Pakistan</th>\n",
       "      <td>184.881459</td>\n",
       "      <td>112.119241</td>\n",
       "      <td>6.770186</td>\n",
       "      <td>13.722543</td>\n",
       "      <td>15.518072</td>\n",
       "      <td>278.963918</td>\n",
       "    </tr>\n",
       "  </tbody>\n",
       "</table>\n",
       "</div>"
      ],
      "text/plain": [
       "motivo_permesso     asilo, richiesta asilo e motivi umanitari    famiglia  \\\n",
       "paese_cittadinanza                                                          \n",
       "Albania                                             18.503704  329.503876   \n",
       "Bangladesh                                         184.975610  145.247813   \n",
       "Cina                                                14.647059  118.894737   \n",
       "India                                               18.218009  170.374332   \n",
       "Marocco                                             34.644970  344.753181   \n",
       "Nigeria                                            240.536082   61.989529   \n",
       "Pakistan                                           184.881459  112.119241   \n",
       "\n",
       "motivo_permesso        lavoro  residenza elettiva, religione, salute  \\\n",
       "paese_cittadinanza                                                     \n",
       "Albania             43.738854                             103.892761   \n",
       "Bangladesh           3.757009                              12.022727   \n",
       "Cina                20.452489                              14.896907   \n",
       "India               72.244224                              20.382979   \n",
       "Marocco             25.993902                              19.539936   \n",
       "Nigeria              2.961538                              19.572881   \n",
       "Pakistan             6.770186                              13.722543   \n",
       "\n",
       "motivo_permesso         studio  tutte le voci  \n",
       "paese_cittadinanza                             \n",
       "Albania              17.924370     484.056266  \n",
       "Bangladesh            3.690141     280.339523  \n",
       "Cina                127.212544     235.989637  \n",
       "India                64.615385     284.062338  \n",
       "Marocco              13.497143     417.816794  \n",
       "Nigeria              11.175676     319.856410  \n",
       "Pakistan             15.518072     278.963918  "
      ]
     },
     "execution_count": 14,
     "metadata": {},
     "output_type": "execute_result"
    }
   ],
   "source": [
    "permesso_sogg1 = permesso_sogg.loc[(permesso_sogg['paese_cittadinanza']=='Albania')| (permesso_sogg['paese_cittadinanza']=='Bangladesh')| (permesso_sogg['paese_cittadinanza']=='Cina')| (permesso_sogg['paese_cittadinanza']=='India')|(permesso_sogg['paese_cittadinanza']=='Marocco')| (permesso_sogg['paese_cittadinanza']=='Nigeria')| (permesso_sogg['paese_cittadinanza']=='Pakistan')]\n",
    "permesso_sogg2 = permesso_sogg1.pivot_table(values='valore', index='paese_cittadinanza', columns='motivo_permesso')\n",
    "permesso_sogg2"
   ]
  },
  {
   "cell_type": "markdown",
   "metadata": {},
   "source": [
    "Visualizziamo graficamente il risultato con countplot."
   ]
  },
  {
   "cell_type": "code",
   "execution_count": 69,
   "metadata": {},
   "outputs": [
    {
     "data": {
      "text/plain": [
       "<matplotlib.axes._subplots.AxesSubplot at 0x173ffa4c880>"
      ]
     },
     "execution_count": 69,
     "metadata": {},
     "output_type": "execute_result"
    },
    {
     "data": {
      "image/png": "[encoded data removed]",
      "text/plain": [
       "<Figure size 432x288 with 1 Axes>"
      ]
     },
     "metadata": {},
     "output_type": "display_data"
    }
   ],
   "source": [
    "sns.countplot(data=permesso_sogg1, x='paese_cittadinanza', dodge=True)"
   ]
  },
  {
   "cell_type": "markdown",
   "metadata": {},
   "source": [
    "#### Dalla tabella è possibile constatare come siano numerosi i Paesi dal quale provengano gli stranieri. Inoltre, i motivi riportati dall'ISTAT sono asilo, richiesta asilo e motivi umanitari, lavoro, famiglia, studio, residenza elettiva, religione e salute. Guardando la tabella ad occhio è possibile denotare come uno dei motivi principali sia la famiglia."
   ]
  },
  {
   "cell_type": "markdown",
   "metadata": {},
   "source": [
    "Per entrare nel merito visualizziamo graficamente la distribuzione secondo il motivo."
   ]
  },
  {
   "cell_type": "code",
   "execution_count": 79,
   "metadata": {},
   "outputs": [
    {
     "data": {
      "text/plain": [
       "<matplotlib.axes._subplots.AxesSubplot at 0x1738210df70>"
      ]
     },
     "execution_count": 79,
     "metadata": {},
     "output_type": "execute_result"
    },
    {
     "data": {
      "image/png": "[encoded data removed]",
      "text/plain": [
       "<Figure size 432x288 with 1 Axes>"
      ]
     },
     "metadata": {},
     "output_type": "display_data"
    }
   ],
   "source": [
    "sns.set_style(style=\"darkgrid\")\n",
    "sns.color_palette(\"husl\", 9)\n",
    "sns.barplot(data=permesso_sogg, x='valore', y='motivo_permesso', orient='h')"
   ]
  },
  {
   "cell_type": "markdown",
   "metadata": {},
   "source": [
    "#### I motivi principali sono appunto la famgilia e asilo, richiesta asilo e motivi umanitari. Nel primo caso rientrano le casistiche di soggetti aventi parenti nel nostro territorio; nel secondo caso rientrano persone provenienti da Paesi con probabili difficoltà politiche e di stabilità, ove i soggetti non godono di ampi diritti umani."
   ]
  },
  {
   "cell_type": "markdown",
   "metadata": {},
   "source": [
    "In questa analisi non spiccano le motivazioni di carattere economico, quindi migrazioni per il lavoro. Me ne occupo nel prossimo punto."
   ]
  },
  {
   "cell_type": "markdown",
   "metadata": {},
   "source": [
    "+ **PUNTO 3: OCCUPAZIONE E DISOCCUPAZIONE DEGLI STRANIERI IN ITALIA**"
   ]
  },
  {
   "cell_type": "markdown",
   "metadata": {},
   "source": [
    "**CHE PERCENTUALE C'E' DI OCCUPAZIONE? E DI DISOCCUPAZIONE? IN CHE COSA SONO GENERALMENTE OCCUPATI?**"
   ]
  },
  {
   "cell_type": "markdown",
   "metadata": {},
   "source": [
    "1)  **_OCCUPAZIONE_**: analizziamo i tassi di occupazione del 2019 (sono quelli proposti) della popolazione straniera in Italia con suddivsione nel territorio e secondo il titolo di studio."
   ]
  },
  {
   "cell_type": "markdown",
   "metadata": {},
   "source": [
    "**TRATTAMENTO DEI VALORI NULLI: CI SONO? COME LI GESTISCO?**"
   ]
  },
  {
   "cell_type": "code",
   "execution_count": 165,
   "metadata": {},
   "outputs": [
    {
     "data": {
      "text/plain": [
       "Territorio           False\n",
       "Sesso                False\n",
       "Titolo di studio     False\n",
       "Cittadinanza         False\n",
       "Seleziona periodo    False\n",
       "Value                False\n",
       "dtype: bool"
      ]
     },
     "execution_count": 165,
     "metadata": {},
     "output_type": "execute_result"
    }
   ],
   "source": [
    "occupati = pd.read_csv(r\"C:/Users/Utente/Desktop/DATI_PROGETTO/stranieri/tasso_occup.csv\", usecols=['Sesso', 'Territorio', 'Cittadinanza', 'Titolo di studio', 'Seleziona periodo', 'Value'])\n",
    "occupati.isnull().any() #non ci sono valori nulli"
   ]
  },
  {
   "cell_type": "markdown",
   "metadata": {},
   "source": [
    "Rinominiamo le variabili per comodità."
   ]
  },
  {
   "cell_type": "code",
   "execution_count": 166,
   "metadata": {},
   "outputs": [
    {
     "data": {
      "text/html": [
       "<div>\n",
       "<style scoped>\n",
       "    .dataframe tbody tr th:only-of-type {\n",
       "        vertical-align: middle;\n",
       "    }\n",
       "\n",
       "    .dataframe tbody tr th {\n",
       "        vertical-align: top;\n",
       "    }\n",
       "\n",
       "    .dataframe thead th {\n",
       "        text-align: right;\n",
       "    }\n",
       "</style>\n",
       "<table border=\"1\" class=\"dataframe\">\n",
       "  <thead>\n",
       "    <tr style=\"text-align: right;\">\n",
       "      <th></th>\n",
       "      <th>Territorio</th>\n",
       "      <th>Sesso</th>\n",
       "      <th>titolo_di_studio</th>\n",
       "      <th>Cittadinanza</th>\n",
       "      <th>periodo</th>\n",
       "      <th>valore</th>\n",
       "    </tr>\n",
       "  </thead>\n",
       "  <tbody>\n",
       "    <tr>\n",
       "      <th>0</th>\n",
       "      <td>Italia</td>\n",
       "      <td>maschi</td>\n",
       "      <td>licenza di scuola elementare, nessun titolo di...</td>\n",
       "      <td>straniero-a</td>\n",
       "      <td>2019</td>\n",
       "      <td>70.132598</td>\n",
       "    </tr>\n",
       "    <tr>\n",
       "      <th>1</th>\n",
       "      <td>Italia</td>\n",
       "      <td>maschi</td>\n",
       "      <td>licenza di scuola elementare, nessun titolo di...</td>\n",
       "      <td>straniero-a</td>\n",
       "      <td>T1-2019</td>\n",
       "      <td>66.645359</td>\n",
       "    </tr>\n",
       "    <tr>\n",
       "      <th>2</th>\n",
       "      <td>Italia</td>\n",
       "      <td>maschi</td>\n",
       "      <td>licenza di scuola elementare, nessun titolo di...</td>\n",
       "      <td>straniero-a</td>\n",
       "      <td>T2-2019</td>\n",
       "      <td>69.608896</td>\n",
       "    </tr>\n",
       "    <tr>\n",
       "      <th>3</th>\n",
       "      <td>Italia</td>\n",
       "      <td>maschi</td>\n",
       "      <td>licenza di scuola elementare, nessun titolo di...</td>\n",
       "      <td>straniero-a</td>\n",
       "      <td>T4-2019</td>\n",
       "      <td>69.782218</td>\n",
       "    </tr>\n",
       "    <tr>\n",
       "      <th>4</th>\n",
       "      <td>Italia</td>\n",
       "      <td>maschi</td>\n",
       "      <td>licenza di scuola elementare, nessun titolo di...</td>\n",
       "      <td>straniero-a</td>\n",
       "      <td>T3-2019</td>\n",
       "      <td>74.749894</td>\n",
       "    </tr>\n",
       "  </tbody>\n",
       "</table>\n",
       "</div>"
      ],
      "text/plain": [
       "  Territorio   Sesso                                   titolo_di_studio  \\\n",
       "0     Italia  maschi  licenza di scuola elementare, nessun titolo di...   \n",
       "1     Italia  maschi  licenza di scuola elementare, nessun titolo di...   \n",
       "2     Italia  maschi  licenza di scuola elementare, nessun titolo di...   \n",
       "3     Italia  maschi  licenza di scuola elementare, nessun titolo di...   \n",
       "4     Italia  maschi  licenza di scuola elementare, nessun titolo di...   \n",
       "\n",
       "  Cittadinanza  periodo     valore  \n",
       "0  straniero-a     2019  70.132598  \n",
       "1  straniero-a  T1-2019  66.645359  \n",
       "2  straniero-a  T2-2019  69.608896  \n",
       "3  straniero-a  T4-2019  69.782218  \n",
       "4  straniero-a  T3-2019  74.749894  "
      ]
     },
     "execution_count": 166,
     "metadata": {},
     "output_type": "execute_result"
    }
   ],
   "source": [
    "occupati = occupati.rename(columns= {'Titolo di studio' : 'titolo_di_studio', 'Seleziona periodo' : 'periodo', 'Value' : 'valore'})\n",
    "occupati.head()"
   ]
  },
  {
   "cell_type": "markdown",
   "metadata": {},
   "source": [
    "Estrapoliamo dalla tabella solo i dati complessivi del 2019, attraverso l'indicizzazione secondo il periodo e una maschera."
   ]
  },
  {
   "cell_type": "code",
   "execution_count": 167,
   "metadata": {},
   "outputs": [
    {
     "data": {
      "text/html": [
       "<div>\n",
       "<style scoped>\n",
       "    .dataframe tbody tr th:only-of-type {\n",
       "        vertical-align: middle;\n",
       "    }\n",
       "\n",
       "    .dataframe tbody tr th {\n",
       "        vertical-align: top;\n",
       "    }\n",
       "\n",
       "    .dataframe thead th {\n",
       "        text-align: right;\n",
       "    }\n",
       "</style>\n",
       "<table border=\"1\" class=\"dataframe\">\n",
       "  <thead>\n",
       "    <tr style=\"text-align: right;\">\n",
       "      <th></th>\n",
       "      <th>Territorio</th>\n",
       "      <th>Sesso</th>\n",
       "      <th>titolo_di_studio</th>\n",
       "      <th>Cittadinanza</th>\n",
       "      <th>periodo</th>\n",
       "      <th>valore</th>\n",
       "    </tr>\n",
       "  </thead>\n",
       "  <tbody>\n",
       "    <tr>\n",
       "      <th>70</th>\n",
       "      <td>Italia</td>\n",
       "      <td>totale</td>\n",
       "      <td>licenza di scuola elementare, nessun titolo di...</td>\n",
       "      <td>straniero-a</td>\n",
       "      <td>2019</td>\n",
       "      <td>55.341809</td>\n",
       "    </tr>\n",
       "    <tr>\n",
       "      <th>77</th>\n",
       "      <td>Italia</td>\n",
       "      <td>totale</td>\n",
       "      <td>licenza di scuola media</td>\n",
       "      <td>straniero-a</td>\n",
       "      <td>2019</td>\n",
       "      <td>57.311169</td>\n",
       "    </tr>\n",
       "    <tr>\n",
       "      <th>84</th>\n",
       "      <td>Italia</td>\n",
       "      <td>totale</td>\n",
       "      <td>diploma</td>\n",
       "      <td>straniero-a</td>\n",
       "      <td>2019</td>\n",
       "      <td>65.442083</td>\n",
       "    </tr>\n",
       "    <tr>\n",
       "      <th>91</th>\n",
       "      <td>Italia</td>\n",
       "      <td>totale</td>\n",
       "      <td>laurea e post-laurea</td>\n",
       "      <td>straniero-a</td>\n",
       "      <td>2019</td>\n",
       "      <td>67.419553</td>\n",
       "    </tr>\n",
       "    <tr>\n",
       "      <th>98</th>\n",
       "      <td>Italia</td>\n",
       "      <td>totale</td>\n",
       "      <td>totale</td>\n",
       "      <td>straniero-a</td>\n",
       "      <td>2019</td>\n",
       "      <td>60.995518</td>\n",
       "    </tr>\n",
       "  </tbody>\n",
       "</table>\n",
       "</div>"
      ],
      "text/plain": [
       "   Territorio   Sesso                                   titolo_di_studio  \\\n",
       "70     Italia  totale  licenza di scuola elementare, nessun titolo di...   \n",
       "77     Italia  totale                            licenza di scuola media   \n",
       "84     Italia  totale                                            diploma   \n",
       "91     Italia  totale                               laurea e post-laurea   \n",
       "98     Italia  totale                                             totale   \n",
       "\n",
       "   Cittadinanza periodo     valore  \n",
       "70  straniero-a    2019  55.341809  \n",
       "77  straniero-a    2019  57.311169  \n",
       "84  straniero-a    2019  65.442083  \n",
       "91  straniero-a    2019  67.419553  \n",
       "98  straniero-a    2019  60.995518  "
      ]
     },
     "execution_count": 167,
     "metadata": {},
     "output_type": "execute_result"
    }
   ],
   "source": [
    "occupati.set_index('periodo')\n",
    "occupati_2019 = occupati.loc[(occupati['periodo']=='2019') & (occupati['Sesso']=='totale')]\n",
    "occupati_2019.head()"
   ]
  },
  {
   "cell_type": "markdown",
   "metadata": {},
   "source": [
    "Raggruppando secondo il titolo di studio vediamo la percentuale media di occupazione degli stranieri in Italia."
   ]
  },
  {
   "cell_type": "code",
   "execution_count": 62,
   "metadata": {},
   "outputs": [
    {
     "data": {
      "text/html": [
       "<div>\n",
       "<style scoped>\n",
       "    .dataframe tbody tr th:only-of-type {\n",
       "        vertical-align: middle;\n",
       "    }\n",
       "\n",
       "    .dataframe tbody tr th {\n",
       "        vertical-align: top;\n",
       "    }\n",
       "\n",
       "    .dataframe thead th {\n",
       "        text-align: right;\n",
       "    }\n",
       "</style>\n",
       "<table border=\"1\" class=\"dataframe\">\n",
       "  <thead>\n",
       "    <tr style=\"text-align: right;\">\n",
       "      <th></th>\n",
       "      <th>valore</th>\n",
       "    </tr>\n",
       "    <tr>\n",
       "      <th>titolo_di_studio</th>\n",
       "      <th></th>\n",
       "    </tr>\n",
       "  </thead>\n",
       "  <tbody>\n",
       "    <tr>\n",
       "      <th>diploma</th>\n",
       "      <td>64.782263</td>\n",
       "    </tr>\n",
       "    <tr>\n",
       "      <th>laurea e post-laurea</th>\n",
       "      <td>66.532000</td>\n",
       "    </tr>\n",
       "    <tr>\n",
       "      <th>licenza di scuola elementare, nessun titolo di studio</th>\n",
       "      <td>51.786082</td>\n",
       "    </tr>\n",
       "    <tr>\n",
       "      <th>licenza di scuola media</th>\n",
       "      <td>56.375118</td>\n",
       "    </tr>\n",
       "    <tr>\n",
       "      <th>totale</th>\n",
       "      <td>60.324838</td>\n",
       "    </tr>\n",
       "  </tbody>\n",
       "</table>\n",
       "</div>"
      ],
      "text/plain": [
       "                                                       valore\n",
       "titolo_di_studio                                             \n",
       "diploma                                             64.782263\n",
       "laurea e post-laurea                                66.532000\n",
       "licenza di scuola elementare, nessun titolo di ...  51.786082\n",
       "licenza di scuola media                             56.375118\n",
       "totale                                              60.324838"
      ]
     },
     "execution_count": 62,
     "metadata": {},
     "output_type": "execute_result"
    }
   ],
   "source": [
    "occupati1 = occupati.groupby('titolo_di_studio')\n",
    "occupati1.mean()"
   ]
  },
  {
   "cell_type": "markdown",
   "metadata": {},
   "source": [
    "#### Come possiamo notare dal risultato il tasso di occupazione è più alto per quei soggetti che hanno conseguito una laurea e/o un post-laurea pari al 66.53%, ma non di molto si discosta la percentuale di occupati dopo il diploma pari a 64.78%. Logicamente più bassa è la percentuale di coloro che non hanno nessun titolo di studio o hanno la licenza di scuola elementare, pari al 51.78%."
   ]
  },
  {
   "cell_type": "markdown",
   "metadata": {},
   "source": [
    "Visioniamo per capire meglio, il tasso di occupazione sulla base del proprio titolo di studio attraverso un grafico."
   ]
  },
  {
   "cell_type": "code",
   "execution_count": 83,
   "metadata": {},
   "outputs": [
    {
     "data": {
      "text/plain": [
       "<matplotlib.axes._subplots.AxesSubplot at 0x1f77ff12ee0>"
      ]
     },
     "execution_count": 83,
     "metadata": {},
     "output_type": "execute_result"
    },
    {
     "data": {
      "image/png": "[encoded data removed]",
      "text/plain": [
       "<Figure size 432x288 with 1 Axes>"
      ]
     },
     "metadata": {},
     "output_type": "display_data"
    }
   ],
   "source": [
    "sns.barplot(data=occupati_2019, x='valore', y='titolo_di_studio', orient='h')"
   ]
  },
  {
   "cell_type": "markdown",
   "metadata": {},
   "source": [
    "#### Nel complesso possiamo affermare che il tasso di occupazione è abbastanza alto tra la popolazione straniera (circa 6 persone su 10). Sicuramente si deve sottolineare il fatto che molti soggetti in difficoltà accettano anche lavori nell'economia sommersa, che quindi non compaiono in queste statistiche."
   ]
  },
  {
   "cell_type": "markdown",
   "metadata": {},
   "source": [
    "Sorge spontaneo però domandarsi quanti stranieri abbiano la possibilità di proseguire gli studi, sia in termini economici che di tempo. Analizziamo il numero di soggetti stranieri iscritti all'università."
   ]
  },
  {
   "cell_type": "markdown",
   "metadata": {},
   "source": [
    "**TRATTAMENTO DEI VALORI NULLI: CI SONO? COME LI GESTISCO?**"
   ]
  },
  {
   "cell_type": "code",
   "execution_count": 168,
   "metadata": {},
   "outputs": [
    {
     "data": {
      "text/plain": [
       "AnnoA               False\n",
       "AteneoNOME          False\n",
       "CorsoTIPO           False\n",
       "Continente          False\n",
       "CittadinanzaNOME    False\n",
       "Isc_S               False\n",
       "dtype: bool"
      ]
     },
     "execution_count": 168,
     "metadata": {},
     "output_type": "execute_result"
    }
   ],
   "source": [
    "universita = pd.read_csv(r\"C:/Users/Utente/Desktop/DATI_PROGETTO/stranieri/stranieri_uni.csv\", usecols=['AnnoA', 'AteneoNOME', 'CorsoTIPO', 'Continente', 'CittadinanzaNOME', 'Isc_S'])\n",
    "universita.isnull().any() #non ci sono valori nulli"
   ]
  },
  {
   "cell_type": "markdown",
   "metadata": {},
   "source": [
    "Organizzo il dataframe con nomi di colonne più conformi e semplici."
   ]
  },
  {
   "cell_type": "code",
   "execution_count": 169,
   "metadata": {},
   "outputs": [
    {
     "data": {
      "text/html": [
       "<div>\n",
       "<style scoped>\n",
       "    .dataframe tbody tr th:only-of-type {\n",
       "        vertical-align: middle;\n",
       "    }\n",
       "\n",
       "    .dataframe tbody tr th {\n",
       "        vertical-align: top;\n",
       "    }\n",
       "\n",
       "    .dataframe thead th {\n",
       "        text-align: right;\n",
       "    }\n",
       "</style>\n",
       "<table border=\"1\" class=\"dataframe\">\n",
       "  <thead>\n",
       "    <tr style=\"text-align: right;\">\n",
       "      <th></th>\n",
       "      <th>anno</th>\n",
       "      <th>ateneo</th>\n",
       "      <th>tipo_corso</th>\n",
       "      <th>Continente</th>\n",
       "      <th>cittadinanza</th>\n",
       "      <th>valore</th>\n",
       "    </tr>\n",
       "  </thead>\n",
       "  <tbody>\n",
       "    <tr>\n",
       "      <th>0</th>\n",
       "      <td>2018/2019</td>\n",
       "      <td>Torino</td>\n",
       "      <td>Laurea</td>\n",
       "      <td>EUROPA-UE</td>\n",
       "      <td>Romania</td>\n",
       "      <td>983</td>\n",
       "    </tr>\n",
       "    <tr>\n",
       "      <th>1</th>\n",
       "      <td>2018/2019</td>\n",
       "      <td>Roma La Sapienza</td>\n",
       "      <td>Laurea</td>\n",
       "      <td>EUROPA-UE</td>\n",
       "      <td>Romania</td>\n",
       "      <td>945</td>\n",
       "    </tr>\n",
       "    <tr>\n",
       "      <th>2</th>\n",
       "      <td>2018/2019</td>\n",
       "      <td>Milano Politecnico</td>\n",
       "      <td>Laurea Magistrale</td>\n",
       "      <td>ASIA</td>\n",
       "      <td>Cina</td>\n",
       "      <td>916</td>\n",
       "    </tr>\n",
       "    <tr>\n",
       "      <th>3</th>\n",
       "      <td>2018/2019</td>\n",
       "      <td>Milano Politecnico</td>\n",
       "      <td>Laurea Magistrale</td>\n",
       "      <td>ASIA</td>\n",
       "      <td>India</td>\n",
       "      <td>771</td>\n",
       "    </tr>\n",
       "    <tr>\n",
       "      <th>4</th>\n",
       "      <td>2018/2019</td>\n",
       "      <td>Milano Politecnico</td>\n",
       "      <td>Laurea Magistrale</td>\n",
       "      <td>ASIA</td>\n",
       "      <td>Iran</td>\n",
       "      <td>717</td>\n",
       "    </tr>\n",
       "  </tbody>\n",
       "</table>\n",
       "</div>"
      ],
      "text/plain": [
       "        anno              ateneo         tipo_corso Continente cittadinanza  \\\n",
       "0  2018/2019              Torino             Laurea  EUROPA-UE      Romania   \n",
       "1  2018/2019    Roma La Sapienza             Laurea  EUROPA-UE      Romania   \n",
       "2  2018/2019  Milano Politecnico  Laurea Magistrale       ASIA         Cina   \n",
       "3  2018/2019  Milano Politecnico  Laurea Magistrale       ASIA        India   \n",
       "4  2018/2019  Milano Politecnico  Laurea Magistrale       ASIA         Iran   \n",
       "\n",
       "   valore  \n",
       "0     983  \n",
       "1     945  \n",
       "2     916  \n",
       "3     771  \n",
       "4     717  "
      ]
     },
     "execution_count": 169,
     "metadata": {},
     "output_type": "execute_result"
    }
   ],
   "source": [
    "universita = universita.rename(columns= {'AnnoA' : 'anno', 'AteneoNOME' : 'ateneo', 'CorsoTIPO' : 'tipo_corso', 'CittadinanzaNOME' : 'cittadinanza', 'Isc_S': 'valore'})\n",
    "universita.head()"
   ]
  },
  {
   "cell_type": "markdown",
   "metadata": {},
   "source": [
    "Raggruppo la tabella secondo il tipo di corso e visualizzo il risultato."
   ]
  },
  {
   "cell_type": "code",
   "execution_count": 170,
   "metadata": {},
   "outputs": [
    {
     "data": {
      "text/html": [
       "<div>\n",
       "<style scoped>\n",
       "    .dataframe tbody tr th:only-of-type {\n",
       "        vertical-align: middle;\n",
       "    }\n",
       "\n",
       "    .dataframe tbody tr th {\n",
       "        vertical-align: top;\n",
       "    }\n",
       "\n",
       "    .dataframe thead th {\n",
       "        text-align: right;\n",
       "    }\n",
       "</style>\n",
       "<table border=\"1\" class=\"dataframe\">\n",
       "  <thead>\n",
       "    <tr style=\"text-align: right;\">\n",
       "      <th></th>\n",
       "      <th>valore</th>\n",
       "    </tr>\n",
       "    <tr>\n",
       "      <th>tipo_corso</th>\n",
       "      <th></th>\n",
       "    </tr>\n",
       "  </thead>\n",
       "  <tbody>\n",
       "    <tr>\n",
       "      <th>Laurea</th>\n",
       "      <td>40030</td>\n",
       "    </tr>\n",
       "    <tr>\n",
       "      <th>Laurea Magistrale</th>\n",
       "      <td>20994</td>\n",
       "    </tr>\n",
       "    <tr>\n",
       "      <th>Laurea Magistrale Ciclo Unico</th>\n",
       "      <td>6904</td>\n",
       "    </tr>\n",
       "    <tr>\n",
       "      <th>Vecchio Ordinamento</th>\n",
       "      <td>31</td>\n",
       "    </tr>\n",
       "  </tbody>\n",
       "</table>\n",
       "</div>"
      ],
      "text/plain": [
       "                               valore\n",
       "tipo_corso                           \n",
       "Laurea                          40030\n",
       "Laurea Magistrale               20994\n",
       "Laurea Magistrale Ciclo Unico    6904\n",
       "Vecchio Ordinamento                31"
      ]
     },
     "execution_count": 170,
     "metadata": {},
     "output_type": "execute_result"
    }
   ],
   "source": [
    "universita1 = universita.groupby('tipo_corso')\n",
    "universita1.sum()"
   ]
  },
  {
   "cell_type": "markdown",
   "metadata": {},
   "source": [
    "#### I numeri a livello nazionale non sono altissimi, ma nemmeno non significativi. In Italia l'università è per molte persone un investimento troppo elevato economicamente, quindi in primis le persone straniere potrebbero incontrare questo grande ostacolo. Ritornando alle percentuali di occupazione, si verifica il c.d. effetto selezione per cui gli stranieri che riescono a superare l'ostacolo hanno garantito un buon livello occupazionale."
   ]
  },
  {
   "cell_type": "markdown",
   "metadata": {},
   "source": [
    "2) **_DISOCCUPAZIONE_**: visioniamo i tassi di disocupazione analogamente al punto precedente."
   ]
  },
  {
   "cell_type": "markdown",
   "metadata": {},
   "source": [
    "**TRATTAMENTO DEI VALORI NULLI: CI SONO? COME LI GESTISCO?**"
   ]
  },
  {
   "cell_type": "code",
   "execution_count": 171,
   "metadata": {},
   "outputs": [
    {
     "data": {
      "text/plain": [
       "Sesso                False\n",
       "Titolo di studio     False\n",
       "Cittadinanza         False\n",
       "Seleziona periodo    False\n",
       "Value                False\n",
       "dtype: bool"
      ]
     },
     "execution_count": 171,
     "metadata": {},
     "output_type": "execute_result"
    }
   ],
   "source": [
    "disoccupati = pd.read_csv(r\"C:/Users/Utente/Desktop/DATI_PROGETTO/stranieri/tasso_disoccup.csv\", usecols=['Sesso', 'Titolo di studio', 'Cittadinanza', 'Seleziona periodo', 'Value'])\n",
    "disoccupati.isnull().any() #non ci sono valori nulli"
   ]
  },
  {
   "cell_type": "markdown",
   "metadata": {},
   "source": [
    "Proseguiamo con l'analisi dei tassi e per prima cosa modifichiamo il nome delle variabili."
   ]
  },
  {
   "cell_type": "code",
   "execution_count": 172,
   "metadata": {},
   "outputs": [
    {
     "data": {
      "text/html": [
       "<div>\n",
       "<style scoped>\n",
       "    .dataframe tbody tr th:only-of-type {\n",
       "        vertical-align: middle;\n",
       "    }\n",
       "\n",
       "    .dataframe tbody tr th {\n",
       "        vertical-align: top;\n",
       "    }\n",
       "\n",
       "    .dataframe thead th {\n",
       "        text-align: right;\n",
       "    }\n",
       "</style>\n",
       "<table border=\"1\" class=\"dataframe\">\n",
       "  <thead>\n",
       "    <tr style=\"text-align: right;\">\n",
       "      <th></th>\n",
       "      <th>Sesso</th>\n",
       "      <th>titolo_di_studio</th>\n",
       "      <th>Cittadinanza</th>\n",
       "      <th>periodo</th>\n",
       "      <th>valore</th>\n",
       "    </tr>\n",
       "  </thead>\n",
       "  <tbody>\n",
       "    <tr>\n",
       "      <th>0</th>\n",
       "      <td>maschi</td>\n",
       "      <td>licenza di scuola elementare, nessun titolo di...</td>\n",
       "      <td>straniero-a</td>\n",
       "      <td>2019</td>\n",
       "      <td>14.237611</td>\n",
       "    </tr>\n",
       "    <tr>\n",
       "      <th>1</th>\n",
       "      <td>maschi</td>\n",
       "      <td>licenza di scuola elementare, nessun titolo di...</td>\n",
       "      <td>straniero-a</td>\n",
       "      <td>T1-2019</td>\n",
       "      <td>17.925378</td>\n",
       "    </tr>\n",
       "    <tr>\n",
       "      <th>2</th>\n",
       "      <td>maschi</td>\n",
       "      <td>licenza di scuola elementare, nessun titolo di...</td>\n",
       "      <td>straniero-a</td>\n",
       "      <td>T2-2019</td>\n",
       "      <td>14.756560</td>\n",
       "    </tr>\n",
       "    <tr>\n",
       "      <th>3</th>\n",
       "      <td>maschi</td>\n",
       "      <td>licenza di scuola elementare, nessun titolo di...</td>\n",
       "      <td>straniero-a</td>\n",
       "      <td>T4-2019</td>\n",
       "      <td>14.365419</td>\n",
       "    </tr>\n",
       "    <tr>\n",
       "      <th>4</th>\n",
       "      <td>maschi</td>\n",
       "      <td>licenza di scuola elementare, nessun titolo di...</td>\n",
       "      <td>straniero-a</td>\n",
       "      <td>T3-2019</td>\n",
       "      <td>9.799707</td>\n",
       "    </tr>\n",
       "  </tbody>\n",
       "</table>\n",
       "</div>"
      ],
      "text/plain": [
       "    Sesso                                   titolo_di_studio Cittadinanza  \\\n",
       "0  maschi  licenza di scuola elementare, nessun titolo di...  straniero-a   \n",
       "1  maschi  licenza di scuola elementare, nessun titolo di...  straniero-a   \n",
       "2  maschi  licenza di scuola elementare, nessun titolo di...  straniero-a   \n",
       "3  maschi  licenza di scuola elementare, nessun titolo di...  straniero-a   \n",
       "4  maschi  licenza di scuola elementare, nessun titolo di...  straniero-a   \n",
       "\n",
       "   periodo     valore  \n",
       "0     2019  14.237611  \n",
       "1  T1-2019  17.925378  \n",
       "2  T2-2019  14.756560  \n",
       "3  T4-2019  14.365419  \n",
       "4  T3-2019   9.799707  "
      ]
     },
     "execution_count": 172,
     "metadata": {},
     "output_type": "execute_result"
    }
   ],
   "source": [
    "disoccupati = disoccupati.rename(columns= {'Titolo di studio' : 'titolo_di_studio', 'Seleziona periodo' : 'periodo', 'Value' : 'valore'})\n",
    "disoccupati.head()"
   ]
  },
  {
   "cell_type": "markdown",
   "metadata": {},
   "source": [
    "Raggruppiamo i dati per il titolo di studio e visualizziamo la percentuale media di disoccupati."
   ]
  },
  {
   "cell_type": "code",
   "execution_count": 204,
   "metadata": {},
   "outputs": [
    {
     "data": {
      "text/html": [
       "<div>\n",
       "<style scoped>\n",
       "    .dataframe tbody tr th:only-of-type {\n",
       "        vertical-align: middle;\n",
       "    }\n",
       "\n",
       "    .dataframe tbody tr th {\n",
       "        vertical-align: top;\n",
       "    }\n",
       "\n",
       "    .dataframe thead th {\n",
       "        text-align: right;\n",
       "    }\n",
       "</style>\n",
       "<table border=\"1\" class=\"dataframe\">\n",
       "  <thead>\n",
       "    <tr style=\"text-align: right;\">\n",
       "      <th></th>\n",
       "      <th>valore</th>\n",
       "    </tr>\n",
       "    <tr>\n",
       "      <th>titolo_di_studio</th>\n",
       "      <th></th>\n",
       "    </tr>\n",
       "  </thead>\n",
       "  <tbody>\n",
       "    <tr>\n",
       "      <th>diploma</th>\n",
       "      <td>13.514178</td>\n",
       "    </tr>\n",
       "    <tr>\n",
       "      <th>laurea e post-laurea</th>\n",
       "      <td>10.438963</td>\n",
       "    </tr>\n",
       "    <tr>\n",
       "      <th>licenza di scuola elementare, nessun titolo di studio</th>\n",
       "      <td>15.602786</td>\n",
       "    </tr>\n",
       "    <tr>\n",
       "      <th>licenza di scuola media</th>\n",
       "      <td>13.555965</td>\n",
       "    </tr>\n",
       "    <tr>\n",
       "      <th>totale</th>\n",
       "      <td>13.384252</td>\n",
       "    </tr>\n",
       "  </tbody>\n",
       "</table>\n",
       "</div>"
      ],
      "text/plain": [
       "                                                       valore\n",
       "titolo_di_studio                                             \n",
       "diploma                                             13.514178\n",
       "laurea e post-laurea                                10.438963\n",
       "licenza di scuola elementare, nessun titolo di ...  15.602786\n",
       "licenza di scuola media                             13.555965\n",
       "totale                                              13.384252"
      ]
     },
     "execution_count": 204,
     "metadata": {},
     "output_type": "execute_result"
    }
   ],
   "source": [
    "disoccupati1= disoccupati.groupby('titolo_di_studio')\n",
    "disoccupati1.mean()"
   ]
  },
  {
   "cell_type": "markdown",
   "metadata": {},
   "source": [
    "#### I tassi di disoccupazione sono generalmente molto bassi, il 10% per i laureati ed il 15% anche per i soggetti senza titolo di studio o con la licenza di scuola elementare sono disoccupati. Da questi risultati si può desumere il fatto che gli stranieri nel nostro Paese facciano parte della forza lavoro e che una piccola parte di essi non lavorano. Anche per questi dati si può riflettere sul fatto che parte dei soggetti risultati disoccupati possano fare parte dell'economia sommersa."
   ]
  },
  {
   "cell_type": "markdown",
   "metadata": {},
   "source": [
    "Anche in questo caso analizziamo i tassi in base al titolo di studio conseguito graficamente."
   ]
  },
  {
   "cell_type": "code",
   "execution_count": 24,
   "metadata": {},
   "outputs": [
    {
     "data": {
      "text/plain": [
       "<matplotlib.axes._subplots.AxesSubplot at 0x163a079f130>"
      ]
     },
     "execution_count": 24,
     "metadata": {},
     "output_type": "execute_result"
    },
    {
     "data": {
      "image/png": "[encoded data removed]",
      "text/plain": [
       "<Figure size 432x288 with 1 Axes>"
      ]
     },
     "metadata": {},
     "output_type": "display_data"
    }
   ],
   "source": [
    "sns.barplot(data=disoccupati, x='valore', y='titolo_di_studio', orient='h')"
   ]
  },
  {
   "cell_type": "markdown",
   "metadata": {},
   "source": [
    "Non ci siamo però occupati della tipologia di attività che quest'ultimi svolgono, molto utili ai fini dell'analisi."
   ]
  },
  {
   "cell_type": "markdown",
   "metadata": {},
   "source": [
    "3) **_TIPOLOGIA DI ATTIVITA' SVOLTA_**: analizziamo che attività svolgono gli stranieri in Italia."
   ]
  },
  {
   "cell_type": "markdown",
   "metadata": {},
   "source": [
    "**TRATTAMENTO DEI VALORI NULLI: CI SONO? COME LI GESTISCO?**"
   ]
  },
  {
   "cell_type": "code",
   "execution_count": 174,
   "metadata": {},
   "outputs": [
    {
     "data": {
      "text/plain": [
       "Territorio           False\n",
       "Sesso                False\n",
       "Professione 2011     False\n",
       "Seleziona periodo    False\n",
       "Value                False\n",
       "dtype: bool"
      ]
     },
     "execution_count": 174,
     "metadata": {},
     "output_type": "execute_result"
    }
   ],
   "source": [
    "tipo_occup = pd.read_csv(r\"C:/Users/Utente/Desktop/DATI_PROGETTO/stranieri/occupaz_str.csv\", usecols=['Territorio', 'Sesso', 'Professione 2011', 'Seleziona periodo', 'Value'])\n",
    "tipo_occup.isnull().any() #non ci sono valori nulli"
   ]
  },
  {
   "cell_type": "markdown",
   "metadata": {},
   "source": [
    "Rinominiamo per semplicità le variabili."
   ]
  },
  {
   "cell_type": "code",
   "execution_count": 176,
   "metadata": {},
   "outputs": [
    {
     "data": {
      "text/html": [
       "<div>\n",
       "<style scoped>\n",
       "    .dataframe tbody tr th:only-of-type {\n",
       "        vertical-align: middle;\n",
       "    }\n",
       "\n",
       "    .dataframe tbody tr th {\n",
       "        vertical-align: top;\n",
       "    }\n",
       "\n",
       "    .dataframe thead th {\n",
       "        text-align: right;\n",
       "    }\n",
       "</style>\n",
       "<table border=\"1\" class=\"dataframe\">\n",
       "  <thead>\n",
       "    <tr style=\"text-align: right;\">\n",
       "      <th></th>\n",
       "      <th>Territorio</th>\n",
       "      <th>Sesso</th>\n",
       "      <th>Professione</th>\n",
       "      <th>periodo</th>\n",
       "      <th>valore</th>\n",
       "    </tr>\n",
       "  </thead>\n",
       "  <tbody>\n",
       "    <tr>\n",
       "      <th>0</th>\n",
       "      <td>Italia</td>\n",
       "      <td>maschi</td>\n",
       "      <td>qualificate e tecniche</td>\n",
       "      <td>2019</td>\n",
       "      <td>92.588</td>\n",
       "    </tr>\n",
       "    <tr>\n",
       "      <th>1</th>\n",
       "      <td>Italia</td>\n",
       "      <td>maschi</td>\n",
       "      <td>qualificate e tecniche</td>\n",
       "      <td>T1-2019</td>\n",
       "      <td>83.485</td>\n",
       "    </tr>\n",
       "    <tr>\n",
       "      <th>2</th>\n",
       "      <td>Italia</td>\n",
       "      <td>maschi</td>\n",
       "      <td>qualificate e tecniche</td>\n",
       "      <td>T2-2019</td>\n",
       "      <td>84.787</td>\n",
       "    </tr>\n",
       "    <tr>\n",
       "      <th>3</th>\n",
       "      <td>Italia</td>\n",
       "      <td>maschi</td>\n",
       "      <td>qualificate e tecniche</td>\n",
       "      <td>T4-2019</td>\n",
       "      <td>101.517</td>\n",
       "    </tr>\n",
       "    <tr>\n",
       "      <th>4</th>\n",
       "      <td>Italia</td>\n",
       "      <td>maschi</td>\n",
       "      <td>qualificate e tecniche</td>\n",
       "      <td>T3-2019</td>\n",
       "      <td>100.564</td>\n",
       "    </tr>\n",
       "  </tbody>\n",
       "</table>\n",
       "</div>"
      ],
      "text/plain": [
       "  Territorio   Sesso             Professione  periodo   valore\n",
       "0     Italia  maschi  qualificate e tecniche     2019   92.588\n",
       "1     Italia  maschi  qualificate e tecniche  T1-2019   83.485\n",
       "2     Italia  maschi  qualificate e tecniche  T2-2019   84.787\n",
       "3     Italia  maschi  qualificate e tecniche  T4-2019  101.517\n",
       "4     Italia  maschi  qualificate e tecniche  T3-2019  100.564"
      ]
     },
     "execution_count": 176,
     "metadata": {},
     "output_type": "execute_result"
    }
   ],
   "source": [
    "tipo_occup = tipo_occup.rename(columns={'Professione 2011' : 'Professione', 'Seleziona periodo': 'periodo', 'Value' : 'valore'})\n",
    "tipo_occup.head()"
   ]
  },
  {
   "cell_type": "markdown",
   "metadata": {},
   "source": [
    "Sarebbe interessante andare a vedere come le diverse professioni si distribuiscono sul territorio italiano."
   ]
  },
  {
   "cell_type": "code",
   "execution_count": 177,
   "metadata": {},
   "outputs": [
    {
     "data": {
      "text/html": [
       "<div>\n",
       "<style scoped>\n",
       "    .dataframe tbody tr th:only-of-type {\n",
       "        vertical-align: middle;\n",
       "    }\n",
       "\n",
       "    .dataframe tbody tr th {\n",
       "        vertical-align: top;\n",
       "    }\n",
       "\n",
       "    .dataframe thead th {\n",
       "        text-align: right;\n",
       "    }\n",
       "</style>\n",
       "<table border=\"1\" class=\"dataframe\">\n",
       "  <thead>\n",
       "    <tr style=\"text-align: right;\">\n",
       "      <th>Professione</th>\n",
       "      <th>impiegati e addetti al commercio e servizi</th>\n",
       "      <th>operari e artigiani</th>\n",
       "      <th>personale non qualificato</th>\n",
       "      <th>qualificate e tecniche</th>\n",
       "      <th>totale</th>\n",
       "    </tr>\n",
       "    <tr>\n",
       "      <th>Territorio</th>\n",
       "      <th></th>\n",
       "      <th></th>\n",
       "      <th></th>\n",
       "      <th></th>\n",
       "      <th></th>\n",
       "    </tr>\n",
       "  </thead>\n",
       "  <tbody>\n",
       "    <tr>\n",
       "      <th>Centro</th>\n",
       "      <td>131.381333</td>\n",
       "      <td>122.874000</td>\n",
       "      <td>149.838667</td>\n",
       "      <td>33.454000</td>\n",
       "      <td>429.226095</td>\n",
       "    </tr>\n",
       "    <tr>\n",
       "      <th>Italia</th>\n",
       "      <td>466.276095</td>\n",
       "      <td>504.135286</td>\n",
       "      <td>539.900810</td>\n",
       "      <td>125.793667</td>\n",
       "      <td>1636.105810</td>\n",
       "    </tr>\n",
       "    <tr>\n",
       "      <th>Mezzogiorno</th>\n",
       "      <td>74.169333</td>\n",
       "      <td>49.988667</td>\n",
       "      <td>122.121333</td>\n",
       "      <td>9.185667</td>\n",
       "      <td>245.488333</td>\n",
       "    </tr>\n",
       "    <tr>\n",
       "      <th>Nord</th>\n",
       "      <td>280.674667</td>\n",
       "      <td>333.012000</td>\n",
       "      <td>279.947333</td>\n",
       "      <td>83.477333</td>\n",
       "      <td>961.391429</td>\n",
       "    </tr>\n",
       "    <tr>\n",
       "      <th>Nord-est</th>\n",
       "      <td>128.071000</td>\n",
       "      <td>151.655333</td>\n",
       "      <td>103.751000</td>\n",
       "      <td>29.156667</td>\n",
       "      <td>410.468619</td>\n",
       "    </tr>\n",
       "    <tr>\n",
       "      <th>Nord-ovest</th>\n",
       "      <td>152.603333</td>\n",
       "      <td>181.357000</td>\n",
       "      <td>176.196000</td>\n",
       "      <td>54.320667</td>\n",
       "      <td>550.923000</td>\n",
       "    </tr>\n",
       "  </tbody>\n",
       "</table>\n",
       "</div>"
      ],
      "text/plain": [
       "Professione  impiegati e addetti al commercio e servizi  operari e artigiani  \\\n",
       "Territorio                                                                     \n",
       "Centro                                       131.381333           122.874000   \n",
       "Italia                                       466.276095           504.135286   \n",
       "Mezzogiorno                                   74.169333            49.988667   \n",
       "Nord                                         280.674667           333.012000   \n",
       "Nord-est                                     128.071000           151.655333   \n",
       "Nord-ovest                                   152.603333           181.357000   \n",
       "\n",
       "Professione  personale non qualificato  qualificate e tecniche       totale  \n",
       "Territorio                                                                   \n",
       "Centro                      149.838667               33.454000   429.226095  \n",
       "Italia                      539.900810              125.793667  1636.105810  \n",
       "Mezzogiorno                 122.121333                9.185667   245.488333  \n",
       "Nord                        279.947333               83.477333   961.391429  \n",
       "Nord-est                    103.751000               29.156667   410.468619  \n",
       "Nord-ovest                  176.196000               54.320667   550.923000  "
      ]
     },
     "execution_count": 177,
     "metadata": {},
     "output_type": "execute_result"
    }
   ],
   "source": [
    "tipo_occup1 = tipo_occup.pivot_table(values='valore', index='Territorio', columns='Professione')\n",
    "tipo_occup1"
   ]
  },
  {
   "cell_type": "markdown",
   "metadata": {},
   "source": [
    "#### Come si denota dai dati, la maggior parte della forza lavoro straniera si concentra al Nord e nel Centro, dove le opportunità di lavoro appaiono maggiori. La distribuzione delle professioni invece sottolinea come la maggioranza di questi soggetti sia personale non qualificato, svolga l'operaio o l'artigiano o si occupi di servizi e commercio. Una bassisima percentuale è invece personale altamente qualificato, per le ragioni che abbiamo analizzato prima."
   ]
  },
  {
   "cell_type": "markdown",
   "metadata": {},
   "source": [
    "Visualizziamo questi dati graficamente con un grafico a torta."
   ]
  },
  {
   "cell_type": "code",
   "execution_count": 178,
   "metadata": {},
   "outputs": [
    {
     "data": {
      "text/html": [
       "<div>\n",
       "<style scoped>\n",
       "    .dataframe tbody tr th:only-of-type {\n",
       "        vertical-align: middle;\n",
       "    }\n",
       "\n",
       "    .dataframe tbody tr th {\n",
       "        vertical-align: top;\n",
       "    }\n",
       "\n",
       "    .dataframe thead th {\n",
       "        text-align: right;\n",
       "    }\n",
       "</style>\n",
       "<table border=\"1\" class=\"dataframe\">\n",
       "  <thead>\n",
       "    <tr style=\"text-align: right;\">\n",
       "      <th></th>\n",
       "      <th>valore</th>\n",
       "    </tr>\n",
       "    <tr>\n",
       "      <th>Professione</th>\n",
       "      <th></th>\n",
       "    </tr>\n",
       "  </thead>\n",
       "  <tbody>\n",
       "    <tr>\n",
       "      <th>impiegati e addetti al commercio e servizi</th>\n",
       "      <td>12092.497</td>\n",
       "    </tr>\n",
       "    <tr>\n",
       "      <th>operari e artigiani</th>\n",
       "      <td>13103.502</td>\n",
       "    </tr>\n",
       "    <tr>\n",
       "      <th>personale non qualificato</th>\n",
       "      <td>13833.480</td>\n",
       "    </tr>\n",
       "    <tr>\n",
       "      <th>qualificate e tecniche</th>\n",
       "      <td>3270.450</td>\n",
       "    </tr>\n",
       "    <tr>\n",
       "      <th>totale</th>\n",
       "      <td>88905.669</td>\n",
       "    </tr>\n",
       "  </tbody>\n",
       "</table>\n",
       "</div>"
      ],
      "text/plain": [
       "                                               valore\n",
       "Professione                                          \n",
       "impiegati e addetti al commercio e servizi  12092.497\n",
       "operari e artigiani                         13103.502\n",
       "personale non qualificato                   13833.480\n",
       "qualificate e tecniche                       3270.450\n",
       "totale                                      88905.669"
      ]
     },
     "execution_count": 178,
     "metadata": {},
     "output_type": "execute_result"
    }
   ],
   "source": [
    "tipo_occup2 = pd.DataFrame(tipo_occup, columns={'Professione', 'valore'})\n",
    "tipo_occup3 = tipo_occup2.groupby('Professione').sum()\n",
    "tipo_occup3"
   ]
  },
  {
   "cell_type": "code",
   "execution_count": 179,
   "metadata": {},
   "outputs": [
    {
     "data": {
      "text/plain": [
       "Professione\n",
       "impiegati e addetti al commercio e servizi     28.587511\n",
       "operari e artigiani                            30.977598\n",
       "personale non qualificato                      32.703317\n",
       "qualificate e tecniche                          7.731573\n",
       "totale                                        210.179239\n",
       "Name: valore, dtype: float64"
      ]
     },
     "execution_count": 179,
     "metadata": {},
     "output_type": "execute_result"
    }
   ],
   "source": [
    "percentuale = (tipo_occup3['valore']/42299.929)*100\n",
    "percentuale"
   ]
  },
  {
   "cell_type": "code",
   "execution_count": 120,
   "metadata": {},
   "outputs": [
    {
     "name": "stderr",
     "output_type": "stream",
     "text": [
      "<ipython-input-120-643665adf74f>:5: MatplotlibDeprecationWarning: Non-1D inputs to pie() are currently squeeze()d, but this behavior is deprecated since 3.1 and will be removed in 3.3; pass a 1D array instead.\n",
      "  ax.pie(tipo_occup3, labels = langs,autopct='%1.2f%%')\n"
     ]
    },
    {
     "data": {
      "image/png": "[encoded data removed]",
      "text/plain": [
       "<Figure size 432x288 with 1 Axes>"
      ]
     },
     "metadata": {},
     "output_type": "display_data"
    }
   ],
   "source": [
    "fig = plt.figure()\n",
    "ax = fig.add_axes([0,0,1,1])\n",
    "ax.axis('equal')\n",
    "langs = ['impiegati e addetti al commercio e servizi', 'operari e artigiani', 'personale non qualificato', 'qualificate e tecniche', 'non dichiarato']\n",
    "ax.pie(tipo_occup3, labels = langs,autopct='%1.2f%%')\n",
    "plt.show()"
   ]
  },
  {
   "cell_type": "markdown",
   "metadata": {},
   "source": [
    "Il fenomeno sociale porta quindi a delle conseguenze, sia positive che negative. Analizziamole."
   ]
  },
  {
   "cell_type": "markdown",
   "metadata": {},
   "source": [
    "+ **PUNTO 4: POSSIBILI ASPETTI NEGATIVI?**"
   ]
  },
  {
   "cell_type": "markdown",
   "metadata": {},
   "source": [
    "La **DELINQUENZA** può essere considerata come uno dei principali aspetti negativi; questo avviene per il pensiero comune secondo cui gli stranieri, non trovando lavoro, sono costretti a delinquere per sopravvivere. (Ma non è così). Prendo in considerazione gli stranieri che hanno commesso delitti e/o delinquenze sul territorio italiano."
   ]
  },
  {
   "cell_type": "markdown",
   "metadata": {},
   "source": [
    "**TRATTAMENTO DEI VALORI NULLI: CI SONO? COME LI GESTISCO?**"
   ]
  },
  {
   "cell_type": "code",
   "execution_count": 180,
   "metadata": {},
   "outputs": [
    {
     "data": {
      "text/plain": [
       "TIPO_DATO35          False\n",
       "Tipo di delitto      False\n",
       "Cittadinanza         False\n",
       "Seleziona periodo    False\n",
       "Value                False\n",
       "dtype: bool"
      ]
     },
     "execution_count": 180,
     "metadata": {},
     "output_type": "execute_result"
    }
   ],
   "source": [
    "delinquenza = pd.read_csv(r\"C:/Users/Utente/Desktop/DATI_PROGETTO/stranieri/delinquenza.csv\", usecols=['TIPO_DATO35', 'Tipo di delitto', 'Cittadinanza', 'Seleziona periodo', 'Value'])\n",
    "delinquenza.isnull().any() #non ci sono valori nulli"
   ]
  },
  {
   "cell_type": "markdown",
   "metadata": {},
   "source": [
    "Rinomino per semplicità le colonne e seleziono le righe contenenti i dati delle persone che hanno commesso violenze, delitti o delinquenze."
   ]
  },
  {
   "cell_type": "code",
   "execution_count": 181,
   "metadata": {},
   "outputs": [
    {
     "data": {
      "text/html": [
       "<div>\n",
       "<style scoped>\n",
       "    .dataframe tbody tr th:only-of-type {\n",
       "        vertical-align: middle;\n",
       "    }\n",
       "\n",
       "    .dataframe tbody tr th {\n",
       "        vertical-align: top;\n",
       "    }\n",
       "\n",
       "    .dataframe thead th {\n",
       "        text-align: right;\n",
       "    }\n",
       "</style>\n",
       "<table border=\"1\" class=\"dataframe\">\n",
       "  <thead>\n",
       "    <tr style=\"text-align: right;\">\n",
       "      <th></th>\n",
       "      <th>posizione_sogg</th>\n",
       "      <th>tipo_delitto</th>\n",
       "      <th>Cittadinanza</th>\n",
       "      <th>periodo</th>\n",
       "      <th>valore</th>\n",
       "    </tr>\n",
       "  </thead>\n",
       "  <tbody>\n",
       "    <tr>\n",
       "      <th>0</th>\n",
       "      <td>OFFEND</td>\n",
       "      <td>strage</td>\n",
       "      <td>straniero-a</td>\n",
       "      <td>2018</td>\n",
       "      <td>2</td>\n",
       "    </tr>\n",
       "    <tr>\n",
       "      <th>1</th>\n",
       "      <td>OFFEND</td>\n",
       "      <td>strage</td>\n",
       "      <td>straniero-a</td>\n",
       "      <td>2018</td>\n",
       "      <td>0</td>\n",
       "    </tr>\n",
       "    <tr>\n",
       "      <th>2</th>\n",
       "      <td>OFFEND</td>\n",
       "      <td>omicidi volontari consumati</td>\n",
       "      <td>straniero-a</td>\n",
       "      <td>2018</td>\n",
       "      <td>46</td>\n",
       "    </tr>\n",
       "    <tr>\n",
       "      <th>4</th>\n",
       "      <td>OFFEND</td>\n",
       "      <td>omicidi volontari consumati</td>\n",
       "      <td>straniero-a</td>\n",
       "      <td>2018</td>\n",
       "      <td>4</td>\n",
       "    </tr>\n",
       "    <tr>\n",
       "      <th>6</th>\n",
       "      <td>OFFEND</td>\n",
       "      <td>omicidi volontari consumati a scopo di furto o...</td>\n",
       "      <td>straniero-a</td>\n",
       "      <td>2018</td>\n",
       "      <td>4</td>\n",
       "    </tr>\n",
       "  </tbody>\n",
       "</table>\n",
       "</div>"
      ],
      "text/plain": [
       "  posizione_sogg                                       tipo_delitto  \\\n",
       "0         OFFEND                                             strage   \n",
       "1         OFFEND                                             strage   \n",
       "2         OFFEND                        omicidi volontari consumati   \n",
       "4         OFFEND                        omicidi volontari consumati   \n",
       "6         OFFEND  omicidi volontari consumati a scopo di furto o...   \n",
       "\n",
       "  Cittadinanza  periodo  valore  \n",
       "0  straniero-a     2018       2  \n",
       "1  straniero-a     2018       0  \n",
       "2  straniero-a     2018      46  \n",
       "4  straniero-a     2018       4  \n",
       "6  straniero-a     2018       4  "
      ]
     },
     "execution_count": 181,
     "metadata": {},
     "output_type": "execute_result"
    }
   ],
   "source": [
    "delinquenza = delinquenza.rename(columns={'TIPO_DATO35' : 'posizione_sogg', 'Tipo di delitto': 'tipo_delitto', 'Seleziona periodo' : 'periodo', 'Value' : 'valore'})\n",
    "delinquenza = delinquenza.loc[delinquenza['posizione_sogg'] == 'OFFEND']\n",
    "delinquenza.head()"
   ]
  },
  {
   "cell_type": "markdown",
   "metadata": {},
   "source": [
    "Che tipologie di azioni commettono?"
   ]
  },
  {
   "cell_type": "code",
   "execution_count": 182,
   "metadata": {},
   "outputs": [
    {
     "data": {
      "text/html": [
       "<div>\n",
       "<style scoped>\n",
       "    .dataframe tbody tr th:only-of-type {\n",
       "        vertical-align: middle;\n",
       "    }\n",
       "\n",
       "    .dataframe tbody tr th {\n",
       "        vertical-align: top;\n",
       "    }\n",
       "\n",
       "    .dataframe thead th {\n",
       "        text-align: right;\n",
       "    }\n",
       "</style>\n",
       "<table border=\"1\" class=\"dataframe\">\n",
       "  <thead>\n",
       "    <tr style=\"text-align: right;\">\n",
       "      <th>tipo_delitto</th>\n",
       "      <th>altri delitti</th>\n",
       "      <th>associazione di tipo mafioso</th>\n",
       "      <th>associazione per delinquere</th>\n",
       "      <th>attentati</th>\n",
       "      <th>atti sessuali con minorenne</th>\n",
       "      <th>contrabbando</th>\n",
       "      <th>contraffazione di marchi e prodotti industriali</th>\n",
       "      <th>corruzione di minorenne</th>\n",
       "      <th>danneggiamenti</th>\n",
       "      <th>danneggiamento seguito da incendio</th>\n",
       "      <th>...</th>\n",
       "      <th>sequestri di persona</th>\n",
       "      <th>sfruttamento e favoreggiamento della prostituzione</th>\n",
       "      <th>stalking</th>\n",
       "      <th>strage</th>\n",
       "      <th>tentati omicidi</th>\n",
       "      <th>totale</th>\n",
       "      <th>truffe e frodi informatiche</th>\n",
       "      <th>usura</th>\n",
       "      <th>violazione della proprietà intellettuale</th>\n",
       "      <th>violenze sessuali</th>\n",
       "    </tr>\n",
       "    <tr>\n",
       "      <th>posizione_sogg</th>\n",
       "      <th></th>\n",
       "      <th></th>\n",
       "      <th></th>\n",
       "      <th></th>\n",
       "      <th></th>\n",
       "      <th></th>\n",
       "      <th></th>\n",
       "      <th></th>\n",
       "      <th></th>\n",
       "      <th></th>\n",
       "      <th></th>\n",
       "      <th></th>\n",
       "      <th></th>\n",
       "      <th></th>\n",
       "      <th></th>\n",
       "      <th></th>\n",
       "      <th></th>\n",
       "      <th></th>\n",
       "      <th></th>\n",
       "      <th></th>\n",
       "      <th></th>\n",
       "    </tr>\n",
       "  </thead>\n",
       "  <tbody>\n",
       "    <tr>\n",
       "      <th>OFFEND</th>\n",
       "      <td>6914.1875</td>\n",
       "      <td>8.375</td>\n",
       "      <td>122.625</td>\n",
       "      <td>3.0</td>\n",
       "      <td>9.6875</td>\n",
       "      <td>4.4375</td>\n",
       "      <td>230.0625</td>\n",
       "      <td>1.6875</td>\n",
       "      <td>481.625</td>\n",
       "      <td>17.875</td>\n",
       "      <td>...</td>\n",
       "      <td>38.875</td>\n",
       "      <td>88.25</td>\n",
       "      <td>144.625</td>\n",
       "      <td>0.4375</td>\n",
       "      <td>37.6875</td>\n",
       "      <td>17438.625</td>\n",
       "      <td>624.6875</td>\n",
       "      <td>4.4375</td>\n",
       "      <td>12.1875</td>\n",
       "      <td>125.5625</td>\n",
       "    </tr>\n",
       "  </tbody>\n",
       "</table>\n",
       "<p>1 rows × 56 columns</p>\n",
       "</div>"
      ],
      "text/plain": [
       "tipo_delitto    altri delitti  associazione di tipo mafioso  \\\n",
       "posizione_sogg                                                \n",
       "OFFEND              6914.1875                         8.375   \n",
       "\n",
       "tipo_delitto    associazione per delinquere  attentati  \\\n",
       "posizione_sogg                                           \n",
       "OFFEND                              122.625        3.0   \n",
       "\n",
       "tipo_delitto    atti sessuali con minorenne  contrabbando  \\\n",
       "posizione_sogg                                              \n",
       "OFFEND                               9.6875        4.4375   \n",
       "\n",
       "tipo_delitto    contraffazione di marchi e prodotti industriali  \\\n",
       "posizione_sogg                                                    \n",
       "OFFEND                                                 230.0625   \n",
       "\n",
       "tipo_delitto    corruzione di minorenne  danneggiamenti  \\\n",
       "posizione_sogg                                            \n",
       "OFFEND                           1.6875         481.625   \n",
       "\n",
       "tipo_delitto    danneggiamento seguito da incendio  ...  sequestri di persona  \\\n",
       "posizione_sogg                                      ...                         \n",
       "OFFEND                                      17.875  ...                38.875   \n",
       "\n",
       "tipo_delitto    sfruttamento e favoreggiamento della prostituzione  stalking  \\\n",
       "posizione_sogg                                                                 \n",
       "OFFEND                                                      88.25    144.625   \n",
       "\n",
       "tipo_delitto    strage  tentati omicidi     totale  \\\n",
       "posizione_sogg                                       \n",
       "OFFEND          0.4375          37.6875  17438.625   \n",
       "\n",
       "tipo_delitto    truffe e frodi informatiche   usura  \\\n",
       "posizione_sogg                                        \n",
       "OFFEND                             624.6875  4.4375   \n",
       "\n",
       "tipo_delitto    violazione della proprietà intellettuale  violenze sessuali  \n",
       "posizione_sogg                                                               \n",
       "OFFEND                                           12.1875           125.5625  \n",
       "\n",
       "[1 rows x 56 columns]"
      ]
     },
     "execution_count": 182,
     "metadata": {},
     "output_type": "execute_result"
    }
   ],
   "source": [
    "delinquenza1 = delinquenza.pivot_table(values='valore', index='posizione_sogg', columns='tipo_delitto')\n",
    "delinquenza1"
   ]
  },
  {
   "cell_type": "markdown",
   "metadata": {},
   "source": [
    "#### Gli illeciti compiuti dagli stranieri in Italia sono di vario tipo, vanno dall'associazione per deliquere allo stalking. Uno dei dati maggiori e più rilevanti è a proposito delle truffe e frodi informatiche."
   ]
  },
  {
   "cell_type": "markdown",
   "metadata": {},
   "source": [
    "Sono in numero significativo?"
   ]
  },
  {
   "cell_type": "code",
   "execution_count": 183,
   "metadata": {},
   "outputs": [
    {
     "data": {
      "text/plain": [
       "896"
      ]
     },
     "execution_count": 183,
     "metadata": {},
     "output_type": "execute_result"
    }
   ],
   "source": [
    "delinquenza['valore'].count()"
   ]
  },
  {
   "cell_type": "markdown",
   "metadata": {},
   "source": [
    "Sul totale dei residenti 2018, in che percentuale sono?"
   ]
  },
  {
   "cell_type": "code",
   "execution_count": 184,
   "metadata": {},
   "outputs": [
    {
     "data": {
      "text/plain": [
       "9658    0.017049\n",
       "Name: valore, dtype: float64"
      ]
     },
     "execution_count": 184,
     "metadata": {},
     "output_type": "execute_result"
    }
   ],
   "source": [
    "(delinquenza['valore'].count()/residenti_2018['valore'])*100"
   ]
  },
  {
   "cell_type": "markdown",
   "metadata": {},
   "source": [
    "#### Tuttavia, il numero di illeciti compiuti nell'anno analizzato (è proposto il 2018) sono minori di 1000, sono un numero non statisticamente significativo a mio parere. Inoltre, in proporzione ai residenti del 2018 sono solo il 0.017%"
   ]
  },
  {
   "cell_type": "markdown",
   "metadata": {},
   "source": [
    "+ **PUNTO 5: POSSIBILI ASPETTI POSITIVI?**"
   ]
  },
  {
   "cell_type": "markdown",
   "metadata": {},
   "source": [
    "L'**ALTA FECONDITA'** è uno dei possibili e condivisi aspetti positivi che l'immigrazione in Italia consente. Analizziamo i tassi totali di fecondità delle donne straniere."
   ]
  },
  {
   "cell_type": "markdown",
   "metadata": {},
   "source": [
    "**TRATTAMENTO DEI VALORI NULLI: CI SONO? COME LI GESTISCO?**"
   ]
  },
  {
   "cell_type": "code",
   "execution_count": 185,
   "metadata": {},
   "outputs": [
    {
     "data": {
      "text/plain": [
       "Territorio           False\n",
       "Tipo dato            False\n",
       "Cittadinanza         False\n",
       "Seleziona periodo    False\n",
       "Value                False\n",
       "dtype: bool"
      ]
     },
     "execution_count": 185,
     "metadata": {},
     "output_type": "execute_result"
    }
   ],
   "source": [
    "fecondita = pd.read_csv(r\"C:/Users/Utente/Desktop/DATI_PROGETTO/stranieri/fecondita.csv\", usecols=['Territorio', 'Tipo dato', 'Cittadinanza', 'Seleziona periodo', 'Value'])\n",
    "fecondita.isnull().any() #non ci sono valori nulli"
   ]
  },
  {
   "cell_type": "markdown",
   "metadata": {},
   "source": [
    "Rinominiamo le variabili e selezioniamo il tasso di fecondita totale, escludendo casistiche più specifiche per comodità e maggiore chiarezza."
   ]
  },
  {
   "cell_type": "code",
   "execution_count": 186,
   "metadata": {},
   "outputs": [
    {
     "data": {
      "text/html": [
       "<div>\n",
       "<style scoped>\n",
       "    .dataframe tbody tr th:only-of-type {\n",
       "        vertical-align: middle;\n",
       "    }\n",
       "\n",
       "    .dataframe tbody tr th {\n",
       "        vertical-align: top;\n",
       "    }\n",
       "\n",
       "    .dataframe thead th {\n",
       "        text-align: right;\n",
       "    }\n",
       "</style>\n",
       "<table border=\"1\" class=\"dataframe\">\n",
       "  <thead>\n",
       "    <tr style=\"text-align: right;\">\n",
       "      <th></th>\n",
       "      <th>Territorio</th>\n",
       "      <th>tipo_dato</th>\n",
       "      <th>Cittadinanza</th>\n",
       "      <th>periodo</th>\n",
       "      <th>valore</th>\n",
       "    </tr>\n",
       "  </thead>\n",
       "  <tbody>\n",
       "    <tr>\n",
       "      <th>0</th>\n",
       "      <td>Italia</td>\n",
       "      <td>tasso di fecondità totale</td>\n",
       "      <td>straniero-a</td>\n",
       "      <td>2018</td>\n",
       "      <td>1.94</td>\n",
       "    </tr>\n",
       "    <tr>\n",
       "      <th>2</th>\n",
       "      <td>Nord-ovest</td>\n",
       "      <td>tasso di fecondità totale</td>\n",
       "      <td>straniero-a</td>\n",
       "      <td>2018</td>\n",
       "      <td>2.03</td>\n",
       "    </tr>\n",
       "    <tr>\n",
       "      <th>4</th>\n",
       "      <td>Piemonte</td>\n",
       "      <td>tasso di fecondità totale</td>\n",
       "      <td>straniero-a</td>\n",
       "      <td>2018</td>\n",
       "      <td>1.94</td>\n",
       "    </tr>\n",
       "    <tr>\n",
       "      <th>6</th>\n",
       "      <td>Torino</td>\n",
       "      <td>tasso di fecondità totale</td>\n",
       "      <td>straniero-a</td>\n",
       "      <td>2018</td>\n",
       "      <td>1.84</td>\n",
       "    </tr>\n",
       "    <tr>\n",
       "      <th>8</th>\n",
       "      <td>Vercelli</td>\n",
       "      <td>tasso di fecondità totale</td>\n",
       "      <td>straniero-a</td>\n",
       "      <td>2018</td>\n",
       "      <td>2.11</td>\n",
       "    </tr>\n",
       "    <tr>\n",
       "      <th>...</th>\n",
       "      <td>...</td>\n",
       "      <td>...</td>\n",
       "      <td>...</td>\n",
       "      <td>...</td>\n",
       "      <td>...</td>\n",
       "    </tr>\n",
       "    <tr>\n",
       "      <th>254</th>\n",
       "      <td>Cagliari</td>\n",
       "      <td>tasso di fecondità totale</td>\n",
       "      <td>straniero-a</td>\n",
       "      <td>2018</td>\n",
       "      <td>1.44</td>\n",
       "    </tr>\n",
       "    <tr>\n",
       "      <th>256</th>\n",
       "      <td>Oristano</td>\n",
       "      <td>tasso di fecondità totale</td>\n",
       "      <td>straniero-a</td>\n",
       "      <td>2018</td>\n",
       "      <td>1.43</td>\n",
       "    </tr>\n",
       "    <tr>\n",
       "      <th>258</th>\n",
       "      <td>Monza e della Brianza</td>\n",
       "      <td>tasso di fecondità totale</td>\n",
       "      <td>straniero-a</td>\n",
       "      <td>2018</td>\n",
       "      <td>2.21</td>\n",
       "    </tr>\n",
       "    <tr>\n",
       "      <th>260</th>\n",
       "      <td>Fermo</td>\n",
       "      <td>tasso di fecondità totale</td>\n",
       "      <td>straniero-a</td>\n",
       "      <td>2018</td>\n",
       "      <td>1.89</td>\n",
       "    </tr>\n",
       "    <tr>\n",
       "      <th>262</th>\n",
       "      <td>Barletta-Andria-Trani</td>\n",
       "      <td>tasso di fecondità totale</td>\n",
       "      <td>straniero-a</td>\n",
       "      <td>2018</td>\n",
       "      <td>1.99</td>\n",
       "    </tr>\n",
       "  </tbody>\n",
       "</table>\n",
       "<p>132 rows × 5 columns</p>\n",
       "</div>"
      ],
      "text/plain": [
       "                Territorio                  tipo_dato Cittadinanza  periodo  \\\n",
       "0                   Italia  tasso di fecondità totale  straniero-a     2018   \n",
       "2               Nord-ovest  tasso di fecondità totale  straniero-a     2018   \n",
       "4                 Piemonte  tasso di fecondità totale  straniero-a     2018   \n",
       "6                   Torino  tasso di fecondità totale  straniero-a     2018   \n",
       "8                 Vercelli  tasso di fecondità totale  straniero-a     2018   \n",
       "..                     ...                        ...          ...      ...   \n",
       "254               Cagliari  tasso di fecondità totale  straniero-a     2018   \n",
       "256               Oristano  tasso di fecondità totale  straniero-a     2018   \n",
       "258  Monza e della Brianza  tasso di fecondità totale  straniero-a     2018   \n",
       "260                  Fermo  tasso di fecondità totale  straniero-a     2018   \n",
       "262  Barletta-Andria-Trani  tasso di fecondità totale  straniero-a     2018   \n",
       "\n",
       "     valore  \n",
       "0      1.94  \n",
       "2      2.03  \n",
       "4      1.94  \n",
       "6      1.84  \n",
       "8      2.11  \n",
       "..      ...  \n",
       "254    1.44  \n",
       "256    1.43  \n",
       "258    2.21  \n",
       "260    1.89  \n",
       "262    1.99  \n",
       "\n",
       "[132 rows x 5 columns]"
      ]
     },
     "execution_count": 186,
     "metadata": {},
     "output_type": "execute_result"
    }
   ],
   "source": [
    "fecondita = fecondita.rename(columns={'Tipo dato' : 'tipo_dato', 'Seleziona periodo' : 'periodo', 'Value' : 'valore'})\n",
    "fecondita = fecondita.loc[fecondita['tipo_dato']== 'tasso di fecondità totale']\n",
    "fecondita "
   ]
  },
  {
   "cell_type": "markdown",
   "metadata": {},
   "source": [
    "Visualizziamo in modo più chiaro per ogni città qual è il tasso di fecondità delle donne straniere (in media)."
   ]
  },
  {
   "cell_type": "code",
   "execution_count": 187,
   "metadata": {},
   "outputs": [
    {
     "data": {
      "text/html": [
       "<div>\n",
       "<style scoped>\n",
       "    .dataframe tbody tr th:only-of-type {\n",
       "        vertical-align: middle;\n",
       "    }\n",
       "\n",
       "    .dataframe tbody tr th {\n",
       "        vertical-align: top;\n",
       "    }\n",
       "\n",
       "    .dataframe thead th {\n",
       "        text-align: right;\n",
       "    }\n",
       "</style>\n",
       "<table border=\"1\" class=\"dataframe\">\n",
       "  <thead>\n",
       "    <tr style=\"text-align: right;\">\n",
       "      <th>Cittadinanza</th>\n",
       "      <th>straniero-a</th>\n",
       "    </tr>\n",
       "    <tr>\n",
       "      <th>tipo_dato</th>\n",
       "      <th></th>\n",
       "    </tr>\n",
       "  </thead>\n",
       "  <tbody>\n",
       "    <tr>\n",
       "      <th>tasso di fecondità totale</th>\n",
       "      <td>1.924773</td>\n",
       "    </tr>\n",
       "  </tbody>\n",
       "</table>\n",
       "</div>"
      ],
      "text/plain": [
       "Cittadinanza               straniero-a\n",
       "tipo_dato                             \n",
       "tasso di fecondità totale     1.924773"
      ]
     },
     "execution_count": 187,
     "metadata": {},
     "output_type": "execute_result"
    }
   ],
   "source": [
    "fecondita.pivot_table(values='valore', index='tipo_dato', columns='Cittadinanza')"
   ]
  },
  {
   "cell_type": "markdown",
   "metadata": {},
   "source": [
    "#### Il tasso di fecondità medio delle donne straniere in Italia è pari a 1.93 figli per donna quindi quasi due figli per donna. Citando sempre l'ISTAT il tasso di fecondità italiano invece ammonta a 1.29 figli per donna, uno dei valori più bassi di tutta Europa. Come sappiamo, il problema dell'invecchiamento demografico riguarda soprattutto anche l'Italia e l'inalzamento di questo tasso potrebbe contrastare questo fenomeno."
   ]
  },
  {
   "cell_type": "markdown",
   "metadata": {},
   "source": [
    "+ **PUNTO 6: IN CHE CONDIZIONI VIVONO I MIGRANTI IN ITALIA?**"
   ]
  },
  {
   "cell_type": "markdown",
   "metadata": {},
   "source": [
    "1) Si parla spesso di **DISCRIMINAZIONI** dei quali i soggetti oggetto di questa analisi sono spesso succubi. Analizziamo le tipologie di discriminazioni subite e in che contesto avvengono."
   ]
  },
  {
   "cell_type": "markdown",
   "metadata": {},
   "source": [
    "**TRATTAMENTO DEI VALORI NULLI: CI SONO? COME LI GESTISCO?**"
   ]
  },
  {
   "cell_type": "code",
   "execution_count": 136,
   "metadata": {},
   "outputs": [
    {
     "data": {
      "text/plain": [
       "Cittadinanza       False\n",
       "Discriminazione    False\n",
       "Value              False\n",
       "dtype: bool"
      ]
     },
     "execution_count": 136,
     "metadata": {},
     "output_type": "execute_result"
    }
   ],
   "source": [
    "discriminazioni = pd.read_csv(r\"C:/Users/Utente/Desktop/DATI_PROGETTO/stranieri/discriminazioni.csv\", usecols=['Cittadinanza', 'Discriminazione', 'Value'])\n",
    "discriminazioni.isnull().any() #non ci sono valori nulli"
   ]
  },
  {
   "cell_type": "markdown",
   "metadata": {},
   "source": [
    "Rinominanimo le variabili."
   ]
  },
  {
   "cell_type": "code",
   "execution_count": 137,
   "metadata": {},
   "outputs": [
    {
     "data": {
      "text/html": [
       "<div>\n",
       "<style scoped>\n",
       "    .dataframe tbody tr th:only-of-type {\n",
       "        vertical-align: middle;\n",
       "    }\n",
       "\n",
       "    .dataframe tbody tr th {\n",
       "        vertical-align: top;\n",
       "    }\n",
       "\n",
       "    .dataframe thead th {\n",
       "        text-align: right;\n",
       "    }\n",
       "</style>\n",
       "<table border=\"1\" class=\"dataframe\">\n",
       "  <thead>\n",
       "    <tr style=\"text-align: right;\">\n",
       "      <th></th>\n",
       "      <th>Cittadinanza</th>\n",
       "      <th>Discriminazione</th>\n",
       "      <th>valore</th>\n",
       "    </tr>\n",
       "  </thead>\n",
       "  <tbody>\n",
       "    <tr>\n",
       "      <th>0</th>\n",
       "      <td>Albania</td>\n",
       "      <td>sì, nel percorso di studi</td>\n",
       "      <td>7476.0</td>\n",
       "    </tr>\n",
       "    <tr>\n",
       "      <th>1</th>\n",
       "      <td>Albania</td>\n",
       "      <td>sì, sul lavoro</td>\n",
       "      <td>28940.0</td>\n",
       "    </tr>\n",
       "    <tr>\n",
       "      <th>2</th>\n",
       "      <td>Albania</td>\n",
       "      <td>sì, nella ricerca del lavoro</td>\n",
       "      <td>19327.0</td>\n",
       "    </tr>\n",
       "    <tr>\n",
       "      <th>3</th>\n",
       "      <td>Albania</td>\n",
       "      <td>sì, in locali/uffici pubblici</td>\n",
       "      <td>8570.0</td>\n",
       "    </tr>\n",
       "    <tr>\n",
       "      <th>4</th>\n",
       "      <td>Unione europea (27 paesi)</td>\n",
       "      <td>sì, nel percorso di studi</td>\n",
       "      <td>15704.0</td>\n",
       "    </tr>\n",
       "  </tbody>\n",
       "</table>\n",
       "</div>"
      ],
      "text/plain": [
       "                Cittadinanza                Discriminazione   valore\n",
       "0                    Albania      sì, nel percorso di studi   7476.0\n",
       "1                    Albania                 sì, sul lavoro  28940.0\n",
       "2                    Albania   sì, nella ricerca del lavoro  19327.0\n",
       "3                    Albania  sì, in locali/uffici pubblici   8570.0\n",
       "4  Unione europea (27 paesi)      sì, nel percorso di studi  15704.0"
      ]
     },
     "execution_count": 137,
     "metadata": {},
     "output_type": "execute_result"
    }
   ],
   "source": [
    "discriminazioni = discriminazioni.rename(columns={'Value' : 'valore'})\n",
    "discriminazioni.head()"
   ]
  },
  {
   "cell_type": "markdown",
   "metadata": {},
   "source": [
    "Raggruppiamo secondo il Paese di cittadinanza e facciamo la somma dei valori. Quanti stranieri hanno subito discriminazioni?"
   ]
  },
  {
   "cell_type": "code",
   "execution_count": 138,
   "metadata": {},
   "outputs": [
    {
     "data": {
      "text/html": [
       "<div>\n",
       "<style scoped>\n",
       "    .dataframe tbody tr th:only-of-type {\n",
       "        vertical-align: middle;\n",
       "    }\n",
       "\n",
       "    .dataframe tbody tr th {\n",
       "        vertical-align: top;\n",
       "    }\n",
       "\n",
       "    .dataframe thead th {\n",
       "        text-align: right;\n",
       "    }\n",
       "</style>\n",
       "<table border=\"1\" class=\"dataframe\">\n",
       "  <thead>\n",
       "    <tr style=\"text-align: right;\">\n",
       "      <th></th>\n",
       "      <th>valore</th>\n",
       "    </tr>\n",
       "    <tr>\n",
       "      <th>Cittadinanza</th>\n",
       "      <th></th>\n",
       "    </tr>\n",
       "  </thead>\n",
       "  <tbody>\n",
       "    <tr>\n",
       "      <th>Albania</th>\n",
       "      <td>64347.0</td>\n",
       "    </tr>\n",
       "    <tr>\n",
       "      <th>Extra Ue 27</th>\n",
       "      <td>689181.3</td>\n",
       "    </tr>\n",
       "    <tr>\n",
       "      <th>Marocco</th>\n",
       "      <td>100362.4</td>\n",
       "    </tr>\n",
       "    <tr>\n",
       "      <th>Paesi esteri</th>\n",
       "      <td>1001145.1</td>\n",
       "    </tr>\n",
       "    <tr>\n",
       "      <th>Romania</th>\n",
       "      <td>238045.8</td>\n",
       "    </tr>\n",
       "    <tr>\n",
       "      <th>Unione europea (27 paesi)</th>\n",
       "      <td>312010.4</td>\n",
       "    </tr>\n",
       "  </tbody>\n",
       "</table>\n",
       "</div>"
      ],
      "text/plain": [
       "                              valore\n",
       "Cittadinanza                        \n",
       "Albania                      64347.0\n",
       "Extra Ue 27                 689181.3\n",
       "Marocco                     100362.4\n",
       "Paesi esteri               1001145.1\n",
       "Romania                     238045.8\n",
       "Unione europea (27 paesi)   312010.4"
      ]
     },
     "execution_count": 138,
     "metadata": {},
     "output_type": "execute_result"
    }
   ],
   "source": [
    "discriminazioni1 = discriminazioni.groupby('Cittadinanza')\n",
    "discriminazioni1.sum()"
   ]
  },
  {
   "cell_type": "markdown",
   "metadata": {},
   "source": [
    "Appare evidente dalla tabella precedente l'ingente numero di persone vittime di discriminazioni. Ma in che contesti avvengono?"
   ]
  },
  {
   "cell_type": "code",
   "execution_count": 139,
   "metadata": {},
   "outputs": [
    {
     "data": {
      "text/html": [
       "<div>\n",
       "<style scoped>\n",
       "    .dataframe tbody tr th:only-of-type {\n",
       "        vertical-align: middle;\n",
       "    }\n",
       "\n",
       "    .dataframe tbody tr th {\n",
       "        vertical-align: top;\n",
       "    }\n",
       "\n",
       "    .dataframe thead th {\n",
       "        text-align: right;\n",
       "    }\n",
       "</style>\n",
       "<table border=\"1\" class=\"dataframe\">\n",
       "  <thead>\n",
       "    <tr style=\"text-align: right;\">\n",
       "      <th></th>\n",
       "      <th>valore</th>\n",
       "    </tr>\n",
       "    <tr>\n",
       "      <th>Discriminazione</th>\n",
       "      <th></th>\n",
       "    </tr>\n",
       "  </thead>\n",
       "  <tbody>\n",
       "    <tr>\n",
       "      <th>sì, in locali/uffici pubblici</th>\n",
       "      <td>594658.1</td>\n",
       "    </tr>\n",
       "    <tr>\n",
       "      <th>sì, nel percorso di studi</th>\n",
       "      <td>154006.5</td>\n",
       "    </tr>\n",
       "    <tr>\n",
       "      <th>sì, nella ricerca del lavoro</th>\n",
       "      <td>631805.4</td>\n",
       "    </tr>\n",
       "    <tr>\n",
       "      <th>sì, sul lavoro</th>\n",
       "      <td>1024622.0</td>\n",
       "    </tr>\n",
       "  </tbody>\n",
       "</table>\n",
       "</div>"
      ],
      "text/plain": [
       "                                  valore\n",
       "Discriminazione                         \n",
       "sì, in locali/uffici pubblici   594658.1\n",
       "sì, nel percorso di studi       154006.5\n",
       "sì, nella ricerca del lavoro    631805.4\n",
       "sì, sul lavoro                 1024622.0"
      ]
     },
     "execution_count": 139,
     "metadata": {},
     "output_type": "execute_result"
    }
   ],
   "source": [
    "discriminazioni2 = discriminazioni.groupby('Discriminazione')\n",
    "discriminazioni2.sum()"
   ]
  },
  {
   "cell_type": "markdown",
   "metadata": {},
   "source": [
    "#### Le discriminazioni subite si riportano spesso sul posto di lavoro (1024622) e nella ricerca di quest'utltimo (631805.4). Non mancano discriminazioni a scuola, durante il percorso degli studi (154006.5) e nei locali e uffici pubblici (594658). Questi sono solo alcuni esempi semplificativi di situazioni che avvengono tutti i giorni vicino a noi."
   ]
  },
  {
   "cell_type": "markdown",
   "metadata": {},
   "source": [
    "Vediamo le tipologie di discriminazioni dove sono state incontrate graficamente."
   ]
  },
  {
   "cell_type": "code",
   "execution_count": 161,
   "metadata": {},
   "outputs": [
    {
     "data": {
      "text/plain": [
       "<matplotlib.axes._subplots.AxesSubplot at 0x173836135e0>"
      ]
     },
     "execution_count": 161,
     "metadata": {},
     "output_type": "execute_result"
    },
    {
     "data": {
      "image/png": "[encoded data removed]",
      "text/plain": [
       "<Figure size 432x288 with 1 Axes>"
      ]
     },
     "metadata": {},
     "output_type": "display_data"
    }
   ],
   "source": [
    "sns.pointplot(data=discriminazioni, x='valore', y='Discriminazione')"
   ]
  },
  {
   "cell_type": "markdown",
   "metadata": {},
   "source": [
    "2) Molte persone venute in ricerca di felicità e stabilità si trovano però in condizioni di **POVERTA'**. Analizziamo il dataframe relativo alle famiglie in condizioni di povertà assoluta. Per povertà assoluta intendiamo quelle famiglie che stentano a sopravvivere ed a mantenere uno standard di vita minimamente accettabile."
   ]
  },
  {
   "cell_type": "markdown",
   "metadata": {},
   "source": [
    "**TRATTAMENTO DEI VALORI NULLI: CI SONO? COME LI GESTISCO?**"
   ]
  },
  {
   "cell_type": "code",
   "execution_count": 210,
   "metadata": {},
   "outputs": [
    {
     "data": {
      "text/plain": [
       "Territorio           False\n",
       "TIPO_DATO8           False\n",
       "Seleziona periodo    False\n",
       "Value                False\n",
       "dtype: bool"
      ]
     },
     "execution_count": 210,
     "metadata": {},
     "output_type": "execute_result"
    }
   ],
   "source": [
    "poverta = pd.read_csv(r\"C:/Users/Utente/Desktop/DATI_PROGETTO/stranieri/poverta.csv\", usecols=['Territorio', 'TIPO_DATO8', 'Seleziona periodo', 'Value'])\n",
    "poverta.isnull().any() #non ci sono valori nulli"
   ]
  },
  {
   "cell_type": "markdown",
   "metadata": {},
   "source": [
    "Rinominiamo le variabili e selezioniamo le righe contenenti il dato di famiglie in povertà assoluta."
   ]
  },
  {
   "cell_type": "code",
   "execution_count": 211,
   "metadata": {},
   "outputs": [
    {
     "data": {
      "text/html": [
       "<div>\n",
       "<style scoped>\n",
       "    .dataframe tbody tr th:only-of-type {\n",
       "        vertical-align: middle;\n",
       "    }\n",
       "\n",
       "    .dataframe tbody tr th {\n",
       "        vertical-align: top;\n",
       "    }\n",
       "\n",
       "    .dataframe thead th {\n",
       "        text-align: right;\n",
       "    }\n",
       "</style>\n",
       "<table border=\"1\" class=\"dataframe\">\n",
       "  <thead>\n",
       "    <tr style=\"text-align: right;\">\n",
       "      <th></th>\n",
       "      <th>Territorio</th>\n",
       "      <th>tipo_dato</th>\n",
       "      <th>periodo</th>\n",
       "      <th>valore</th>\n",
       "    </tr>\n",
       "  </thead>\n",
       "  <tbody>\n",
       "    <tr>\n",
       "      <th>0</th>\n",
       "      <td>Italia</td>\n",
       "      <td>FAM_POVASS</td>\n",
       "      <td>2019</td>\n",
       "      <td>100.0</td>\n",
       "    </tr>\n",
       "    <tr>\n",
       "      <th>10</th>\n",
       "      <td>Nord</td>\n",
       "      <td>FAM_POVASS</td>\n",
       "      <td>2019</td>\n",
       "      <td>43.4</td>\n",
       "    </tr>\n",
       "    <tr>\n",
       "      <th>20</th>\n",
       "      <td>Nord-ovest</td>\n",
       "      <td>FAM_POVASS</td>\n",
       "      <td>2019</td>\n",
       "      <td>25.1</td>\n",
       "    </tr>\n",
       "    <tr>\n",
       "      <th>30</th>\n",
       "      <td>Nord-est</td>\n",
       "      <td>FAM_POVASS</td>\n",
       "      <td>2019</td>\n",
       "      <td>18.3</td>\n",
       "    </tr>\n",
       "    <tr>\n",
       "      <th>40</th>\n",
       "      <td>Centro</td>\n",
       "      <td>FAM_POVASS</td>\n",
       "      <td>2019</td>\n",
       "      <td>14.4</td>\n",
       "    </tr>\n",
       "    <tr>\n",
       "      <th>50</th>\n",
       "      <td>Mezzogiorno</td>\n",
       "      <td>FAM_POVASS</td>\n",
       "      <td>2019</td>\n",
       "      <td>42.2</td>\n",
       "    </tr>\n",
       "    <tr>\n",
       "      <th>60</th>\n",
       "      <td>Sud</td>\n",
       "      <td>FAM_POVASS</td>\n",
       "      <td>2019</td>\n",
       "      <td>28.1</td>\n",
       "    </tr>\n",
       "    <tr>\n",
       "      <th>70</th>\n",
       "      <td>Isole</td>\n",
       "      <td>FAM_POVASS</td>\n",
       "      <td>2019</td>\n",
       "      <td>14.1</td>\n",
       "    </tr>\n",
       "  </tbody>\n",
       "</table>\n",
       "</div>"
      ],
      "text/plain": [
       "     Territorio   tipo_dato  periodo  valore\n",
       "0        Italia  FAM_POVASS     2019   100.0\n",
       "10         Nord  FAM_POVASS     2019    43.4\n",
       "20   Nord-ovest  FAM_POVASS     2019    25.1\n",
       "30     Nord-est  FAM_POVASS     2019    18.3\n",
       "40       Centro  FAM_POVASS     2019    14.4\n",
       "50  Mezzogiorno  FAM_POVASS     2019    42.2\n",
       "60          Sud  FAM_POVASS     2019    28.1\n",
       "70        Isole  FAM_POVASS     2019    14.1"
      ]
     },
     "execution_count": 211,
     "metadata": {},
     "output_type": "execute_result"
    }
   ],
   "source": [
    "poverta = poverta.rename(columns={'TIPO_DATO8' : 'tipo_dato', 'Seleziona periodo' : 'periodo', 'Value' : 'valore'})\n",
    "poverta = poverta.loc[poverta['tipo_dato']== 'FAM_POVASS']\n",
    "poverta"
   ]
  },
  {
   "cell_type": "markdown",
   "metadata": {},
   "source": [
    "Mediamente qual è il tasso di povertà assoluta familiare?"
   ]
  },
  {
   "cell_type": "code",
   "execution_count": 212,
   "metadata": {},
   "outputs": [
    {
     "data": {
      "text/plain": [
       "35.70000000000001"
      ]
     },
     "execution_count": 212,
     "metadata": {},
     "output_type": "execute_result"
    }
   ],
   "source": [
    "np.mean(poverta['valore'])"
   ]
  },
  {
   "cell_type": "markdown",
   "metadata": {},
   "source": [
    "#### Il tasso di povertà assoluta familiare, nelle famiglie con persone straniere, è pari al 35.7%, ossia circa 4 persone su 10. Il numero non è molto alto ma è comunque significativo e questi soggetti, i più fragili, andrebbero più tutelati dallo Stato."
   ]
  },
  {
   "cell_type": "markdown",
   "metadata": {},
   "source": [
    "> ## REPORT\n",
    "***"
   ]
  },
  {
   "cell_type": "markdown",
   "metadata": {},
   "source": [
    "+ In Italia il **flusso di migrazioni** è in aumento negli ultimi anni, lo dimostrano i recenti dati ISTAT. I numeri sono in aumento costante, ma non in modo molto significativo, come dimostra il grafico, si passa da 5144440 del 2017 a 5306548 del 2019."
   ]
  },
  {
   "cell_type": "code",
   "execution_count": 188,
   "metadata": {},
   "outputs": [
    {
     "data": {
      "text/plain": [
       "<matplotlib.axes._subplots.AxesSubplot at 0x17383661040>"
      ]
     },
     "execution_count": 188,
     "metadata": {},
     "output_type": "execute_result"
    },
    {
     "data": {
      "image/png": "[encoded data removed]",
      "text/plain": [
       "<Figure size 432x288 with 1 Axes>"
      ]
     },
     "metadata": {},
     "output_type": "display_data"
    }
   ],
   "source": [
    "sns.pointplot(data=residenti, x='periodo', y='valore')"
   ]
  },
  {
   "cell_type": "code",
   "execution_count": 199,
   "metadata": {},
   "outputs": [
    {
     "data": {
      "text/plain": [
       "0.03151130152164278"
      ]
     },
     "execution_count": 199,
     "metadata": {},
     "output_type": "execute_result"
    }
   ],
   "source": [
    "(5306548-5144440)/5144440"
   ]
  },
  {
   "cell_type": "markdown",
   "metadata": {},
   "source": [
    "**SI REGISTRA QUINDI UN AUMENTO DEL 3.15 %**"
   ]
  },
  {
   "cell_type": "markdown",
   "metadata": {},
   "source": [
    "+ Sono numerosi i **Paesi** dai quali i migranti arrivano. I più significativi sono quelli riportati nel seguente grafico: *Albania, Bangladesh, Cina, India, Nigeria, Marocco e Pakistan*. Il Paese con il maggior numero di migranti è l'Albania."
   ]
  },
  {
   "cell_type": "code",
   "execution_count": 189,
   "metadata": {},
   "outputs": [
    {
     "data": {
      "text/plain": [
       "<matplotlib.axes._subplots.AxesSubplot at 0x1738364f6d0>"
      ]
     },
     "execution_count": 189,
     "metadata": {},
     "output_type": "execute_result"
    },
    {
     "data": {
      "image/png": "[encoded data removed]",
      "text/plain": [
       "<Figure size 432x288 with 1 Axes>"
      ]
     },
     "metadata": {},
     "output_type": "display_data"
    }
   ],
   "source": [
    "sns.countplot(data=permesso_sogg1, x='paese_cittadinanza', dodge=True)"
   ]
  },
  {
   "cell_type": "markdown",
   "metadata": {},
   "source": [
    "+ I **motivi** per i quali i migranti si recano nel nostro Paese sono numerosi, vengono ricondotti però a le seguenti ragioni: lavoro, famiglia, studio, asilo, richiesta di asilo e motivi umanitari, residenza elettiva, religione e salute. Il moptivo che sembra più rilevante è la famiglia, seguito dall'asilo, richiesta di asilo e per motivi umanitari. Ciò si verifica in quanto nei Paesi prima elencati i diritti umani e le condizioni socio-economiche non sono delle migliori."
   ]
  },
  {
   "cell_type": "code",
   "execution_count": 200,
   "metadata": {},
   "outputs": [
    {
     "data": {
      "text/plain": [
       "<matplotlib.axes._subplots.AxesSubplot at 0x17383920fa0>"
      ]
     },
     "execution_count": 200,
     "metadata": {},
     "output_type": "execute_result"
    },
    {
     "data": {
      "image/png": "[encoded data removed]",
      "text/plain": [
       "<Figure size 432x288 with 1 Axes>"
      ]
     },
     "metadata": {},
     "output_type": "display_data"
    }
   ],
   "source": [
    "sns.set_style(style=\"darkgrid\")\n",
    "sns.color_palette(\"husl\", 9)\n",
    "sns.barplot(data=permesso_sogg, x='valore', y='motivo_permesso', orient='h')"
   ]
  },
  {
   "cell_type": "markdown",
   "metadata": {},
   "source": [
    "+ **I tassi di occupazione** delle persone migrate in Italia sono nel complesso significativi: di media il 66.53% dei laureati è occupato; la percentuale di occupati dopo il diploma è pari al 64.78%. Risulta più bassa è la percentuale di coloro che non hanno nessun titolo di studio o hanno la licenza di scuola elementare, pari al 51.78%."
   ]
  },
  {
   "cell_type": "code",
   "execution_count": 202,
   "metadata": {},
   "outputs": [
    {
     "data": {
      "text/html": [
       "<div>\n",
       "<style scoped>\n",
       "    .dataframe tbody tr th:only-of-type {\n",
       "        vertical-align: middle;\n",
       "    }\n",
       "\n",
       "    .dataframe tbody tr th {\n",
       "        vertical-align: top;\n",
       "    }\n",
       "\n",
       "    .dataframe thead th {\n",
       "        text-align: right;\n",
       "    }\n",
       "</style>\n",
       "<table border=\"1\" class=\"dataframe\">\n",
       "  <thead>\n",
       "    <tr style=\"text-align: right;\">\n",
       "      <th></th>\n",
       "      <th>valore</th>\n",
       "    </tr>\n",
       "    <tr>\n",
       "      <th>titolo_di_studio</th>\n",
       "      <th></th>\n",
       "    </tr>\n",
       "  </thead>\n",
       "  <tbody>\n",
       "    <tr>\n",
       "      <th>diploma</th>\n",
       "      <td>64.782263</td>\n",
       "    </tr>\n",
       "    <tr>\n",
       "      <th>laurea e post-laurea</th>\n",
       "      <td>66.532000</td>\n",
       "    </tr>\n",
       "    <tr>\n",
       "      <th>licenza di scuola elementare, nessun titolo di studio</th>\n",
       "      <td>51.786082</td>\n",
       "    </tr>\n",
       "    <tr>\n",
       "      <th>licenza di scuola media</th>\n",
       "      <td>56.375118</td>\n",
       "    </tr>\n",
       "    <tr>\n",
       "      <th>totale</th>\n",
       "      <td>60.324838</td>\n",
       "    </tr>\n",
       "  </tbody>\n",
       "</table>\n",
       "</div>"
      ],
      "text/plain": [
       "                                                       valore\n",
       "titolo_di_studio                                             \n",
       "diploma                                             64.782263\n",
       "laurea e post-laurea                                66.532000\n",
       "licenza di scuola elementare, nessun titolo di ...  51.786082\n",
       "licenza di scuola media                             56.375118\n",
       "totale                                              60.324838"
      ]
     },
     "execution_count": 202,
     "metadata": {},
     "output_type": "execute_result"
    }
   ],
   "source": [
    "occupati1 = occupati.groupby('titolo_di_studio')\n",
    "occupati1.mean()"
   ]
  },
  {
   "cell_type": "markdown",
   "metadata": {},
   "source": [
    "+ Inoltre, è utile sottolineare che le persone emigrate che riescono a seguire un **percorso di studi** oltre a quello previsto obbligatoriamente, è un numero molto esiguo. Il problema sta nel c.d. effetto selezione che non consente a coloro che hanno problemi economici ad iscriversi all'università."
   ]
  },
  {
   "cell_type": "code",
   "execution_count": 203,
   "metadata": {},
   "outputs": [
    {
     "data": {
      "text/html": [
       "<div>\n",
       "<style scoped>\n",
       "    .dataframe tbody tr th:only-of-type {\n",
       "        vertical-align: middle;\n",
       "    }\n",
       "\n",
       "    .dataframe tbody tr th {\n",
       "        vertical-align: top;\n",
       "    }\n",
       "\n",
       "    .dataframe thead th {\n",
       "        text-align: right;\n",
       "    }\n",
       "</style>\n",
       "<table border=\"1\" class=\"dataframe\">\n",
       "  <thead>\n",
       "    <tr style=\"text-align: right;\">\n",
       "      <th></th>\n",
       "      <th>valore</th>\n",
       "    </tr>\n",
       "    <tr>\n",
       "      <th>tipo_corso</th>\n",
       "      <th></th>\n",
       "    </tr>\n",
       "  </thead>\n",
       "  <tbody>\n",
       "    <tr>\n",
       "      <th>Laurea</th>\n",
       "      <td>40030</td>\n",
       "    </tr>\n",
       "    <tr>\n",
       "      <th>Laurea Magistrale</th>\n",
       "      <td>20994</td>\n",
       "    </tr>\n",
       "    <tr>\n",
       "      <th>Laurea Magistrale Ciclo Unico</th>\n",
       "      <td>6904</td>\n",
       "    </tr>\n",
       "    <tr>\n",
       "      <th>Vecchio Ordinamento</th>\n",
       "      <td>31</td>\n",
       "    </tr>\n",
       "  </tbody>\n",
       "</table>\n",
       "</div>"
      ],
      "text/plain": [
       "                               valore\n",
       "tipo_corso                           \n",
       "Laurea                          40030\n",
       "Laurea Magistrale               20994\n",
       "Laurea Magistrale Ciclo Unico    6904\n",
       "Vecchio Ordinamento                31"
      ]
     },
     "execution_count": 203,
     "metadata": {},
     "output_type": "execute_result"
    }
   ],
   "source": [
    "universita1 = universita.groupby('tipo_corso')\n",
    "universita1.sum()"
   ]
  },
  {
   "cell_type": "markdown",
   "metadata": {},
   "source": [
    "+ **Il tasso di disoccupazione** delle persone migrate in Italia sono nel complesso abbastanza bassi: i laureati sono solo al 10% disoccupati, se con il diploma il 13%. Le persone senza un titolo di studio pari al 15%, percentuale logicamente più alta."
   ]
  },
  {
   "cell_type": "code",
   "execution_count": 205,
   "metadata": {},
   "outputs": [
    {
     "data": {
      "text/html": [
       "<div>\n",
       "<style scoped>\n",
       "    .dataframe tbody tr th:only-of-type {\n",
       "        vertical-align: middle;\n",
       "    }\n",
       "\n",
       "    .dataframe tbody tr th {\n",
       "        vertical-align: top;\n",
       "    }\n",
       "\n",
       "    .dataframe thead th {\n",
       "        text-align: right;\n",
       "    }\n",
       "</style>\n",
       "<table border=\"1\" class=\"dataframe\">\n",
       "  <thead>\n",
       "    <tr style=\"text-align: right;\">\n",
       "      <th></th>\n",
       "      <th>valore</th>\n",
       "    </tr>\n",
       "    <tr>\n",
       "      <th>titolo_di_studio</th>\n",
       "      <th></th>\n",
       "    </tr>\n",
       "  </thead>\n",
       "  <tbody>\n",
       "    <tr>\n",
       "      <th>diploma</th>\n",
       "      <td>13.514178</td>\n",
       "    </tr>\n",
       "    <tr>\n",
       "      <th>laurea e post-laurea</th>\n",
       "      <td>10.438963</td>\n",
       "    </tr>\n",
       "    <tr>\n",
       "      <th>licenza di scuola elementare, nessun titolo di studio</th>\n",
       "      <td>15.602786</td>\n",
       "    </tr>\n",
       "    <tr>\n",
       "      <th>licenza di scuola media</th>\n",
       "      <td>13.555965</td>\n",
       "    </tr>\n",
       "    <tr>\n",
       "      <th>totale</th>\n",
       "      <td>13.384252</td>\n",
       "    </tr>\n",
       "  </tbody>\n",
       "</table>\n",
       "</div>"
      ],
      "text/plain": [
       "                                                       valore\n",
       "titolo_di_studio                                             \n",
       "diploma                                             13.514178\n",
       "laurea e post-laurea                                10.438963\n",
       "licenza di scuola elementare, nessun titolo di ...  15.602786\n",
       "licenza di scuola media                             13.555965\n",
       "totale                                              13.384252"
      ]
     },
     "execution_count": 205,
     "metadata": {},
     "output_type": "execute_result"
    }
   ],
   "source": [
    "disoccupati1= disoccupati.groupby('titolo_di_studio')\n",
    "disoccupati1.mean()"
   ]
  },
  {
   "cell_type": "markdown",
   "metadata": {},
   "source": [
    "+ **Le tipologie di professioni** che gli stranieri svolgono in Italia sono, proprio come è creduto nel pensiero comune, le attività che gli italiano non svolgerebbero. Questo non avviene per una sorta di classificazione tra le professioni, bensì, secondo la teoria del capitale umano, il lavoro rappresenta il risultato dell'investimento scolastico dei soggetti. Come possiamo notare dal grafico a torta, la maggior parte delle persone sono occupate in professioni non qualificate oppure nella classe operaia/artigiana. Solo il 2.5% svolge attività qualificate e tecniche."
   ]
  },
  {
   "cell_type": "code",
   "execution_count": 193,
   "metadata": {},
   "outputs": [
    {
     "name": "stderr",
     "output_type": "stream",
     "text": [
      "<ipython-input-193-643665adf74f>:5: MatplotlibDeprecationWarning: Non-1D inputs to pie() are currently squeeze()d, but this behavior is deprecated since 3.1 and will be removed in 3.3; pass a 1D array instead.\n",
      "  ax.pie(tipo_occup3, labels = langs,autopct='%1.2f%%')\n"
     ]
    },
    {
     "data": {
      "image/png": "[encoded data removed]",
      "text/plain": [
       "<Figure size 432x288 with 1 Axes>"
      ]
     },
     "metadata": {},
     "output_type": "display_data"
    }
   ],
   "source": [
    "fig = plt.figure()\n",
    "ax = fig.add_axes([0,0,1,1])\n",
    "ax.axis('equal')\n",
    "langs = ['impiegati e addetti al commercio e servizi', 'operari e artigiani', 'personale non qualificato', 'qualificate e tecniche', 'non dichiarato']\n",
    "ax.pie(tipo_occup3, labels = langs,autopct='%1.2f%%')\n",
    "plt.show()"
   ]
  },
  {
   "cell_type": "markdown",
   "metadata": {},
   "source": [
    "+ Il possibile aspetto negativo è la **delinquenza**. Analizzando però i dati, la percentuale di illeciti compiuti dalla popolazione migrante in Italia (sul totale dei residenti) è veramente bassa, quasi inesistente."
   ]
  },
  {
   "cell_type": "code",
   "execution_count": 206,
   "metadata": {},
   "outputs": [
    {
     "data": {
      "text/plain": [
       "9658    0.017049\n",
       "Name: valore, dtype: float64"
      ]
     },
     "execution_count": 206,
     "metadata": {},
     "output_type": "execute_result"
    }
   ],
   "source": [
    "(delinquenza['valore'].count()/residenti_2018['valore'])*100"
   ]
  },
  {
   "cell_type": "markdown",
   "metadata": {},
   "source": [
    "**LA PERCENTUALE DI MIGRANTI CHE NEL 2018 HANNO COMPIUTO ATTI ILLECITI E' PARI ALLO 0.017%**"
   ]
  },
  {
   "cell_type": "markdown",
   "metadata": {},
   "source": [
    "+ Il possibile aspetto positivo è la **fecondità**. Analizzando i dati emerge come il tasso di fecondità sia decisamente superiore nelle donne emigrate in Italia, rispetto alle autoctone. Il problema è legato a problemi di tipo culturale ed economici. "
   ]
  },
  {
   "cell_type": "code",
   "execution_count": 207,
   "metadata": {},
   "outputs": [
    {
     "data": {
      "text/html": [
       "<div>\n",
       "<style scoped>\n",
       "    .dataframe tbody tr th:only-of-type {\n",
       "        vertical-align: middle;\n",
       "    }\n",
       "\n",
       "    .dataframe tbody tr th {\n",
       "        vertical-align: top;\n",
       "    }\n",
       "\n",
       "    .dataframe thead th {\n",
       "        text-align: right;\n",
       "    }\n",
       "</style>\n",
       "<table border=\"1\" class=\"dataframe\">\n",
       "  <thead>\n",
       "    <tr style=\"text-align: right;\">\n",
       "      <th>Cittadinanza</th>\n",
       "      <th>straniero-a</th>\n",
       "    </tr>\n",
       "    <tr>\n",
       "      <th>tipo_dato</th>\n",
       "      <th></th>\n",
       "    </tr>\n",
       "  </thead>\n",
       "  <tbody>\n",
       "    <tr>\n",
       "      <th>tasso di fecondità totale</th>\n",
       "      <td>1.924773</td>\n",
       "    </tr>\n",
       "  </tbody>\n",
       "</table>\n",
       "</div>"
      ],
      "text/plain": [
       "Cittadinanza               straniero-a\n",
       "tipo_dato                             \n",
       "tasso di fecondità totale     1.924773"
      ]
     },
     "execution_count": 207,
     "metadata": {},
     "output_type": "execute_result"
    }
   ],
   "source": [
    "fecondita.pivot_table(values='valore', index='tipo_dato', columns='Cittadinanza')"
   ]
  },
  {
   "cell_type": "markdown",
   "metadata": {},
   "source": [
    "**IL TASSO DI FECONDITA' IN MEDIA E' PARI A 1.92 FIGLI PER DONNA (CONTRO AL 1.29 ITALIANO).**"
   ]
  },
  {
   "cell_type": "markdown",
   "metadata": {},
   "source": [
    "+ Le **condizioni** nelle quali vivono i migranti in Italia non sono delle migliori: sono vittime in tanti casi di discriminazioni e vivono spesso in condizioni di ingenza diffusa. Il grafico riporta i luoghi nei quali i migranti sono state vittime di discriminazioni: perlopiù ciò avviene sul posto di lavoro e nella ricerca di quest'ultimo, ma anche in luoghi e uffici pubblici. "
   ]
  },
  {
   "cell_type": "code",
   "execution_count": 208,
   "metadata": {},
   "outputs": [
    {
     "data": {
      "text/plain": [
       "<matplotlib.axes._subplots.AxesSubplot at 0x173839ec1f0>"
      ]
     },
     "execution_count": 208,
     "metadata": {},
     "output_type": "execute_result"
    },
    {
     "data": {
      "image/png": "[encoded data removed]",
      "text/plain": [
       "<Figure size 432x288 with 1 Axes>"
      ]
     },
     "metadata": {},
     "output_type": "display_data"
    }
   ],
   "source": [
    "sns.pointplot(data=discriminazioni, x='valore', y='Discriminazione')"
   ]
  },
  {
   "cell_type": "code",
   "execution_count": 213,
   "metadata": {},
   "outputs": [
    {
     "data": {
      "text/plain": [
       "35.70000000000001"
      ]
     },
     "execution_count": 213,
     "metadata": {},
     "output_type": "execute_result"
    }
   ],
   "source": [
    "np.mean(poverta['valore'])"
   ]
  },
  {
   "cell_type": "markdown",
   "metadata": {},
   "source": [
    "**LA PERCENTUALE DI PERSONE IN CONDIZIONI DI INDIGENZA E' IL 35.7%**"
   ]
  },
  {
   "cell_type": "markdown",
   "metadata": {},
   "source": [
    "+ **CONCLUSIONI FINALI**\n",
    "* * *"
   ]
  },
  {
   "cell_type": "markdown",
   "metadata": {},
   "source": [
    "Come ho spiegato inizialmente l'obbiettivo della analisi è evidenziare la presenza della migrazione nel nostro Paese mettendo in luce i *numeri*, i *motivi* e le *conseguenze* che possono derivarne."
   ]
  },
  {
   "cell_type": "markdown",
   "metadata": {},
   "source": [
    "Ogni anno si contano più o meno di **5 milioni** di migranti provenienti da tutto il mondo, un trend in aumento ma perlopiù stabile tra un anno e l'altro. I **motivi** per i quali questi soggetti migrano sono di tipo familiare, lavorativo o per richiedere asilo e protezione umanitaria. I migranti sono parte integrante della forza lavoro italiana: parliamo di più del **60% occupato**, non contando l'ingente numero di persone impiegate nell'economia sommersa. Pochi invece sono i disoccupati, pari al 10-15% del totale. Essi svolgono, proprio come è comunemente condiviso, quei lavori che gli italiani spesso *non sarebbero disposti a svolgere*; è un meccanismo che non ha a che fare con nessuna \"classificazione\" lavorativa, piuttosto ha a che vedere con la teoria del capitale umano, secondo cui un soggetto che ha investito in istruzione si aspetta un ritorno di quest'ultimo in termini lavorativi. Sono occupati quindi in lavori non qualificati, fanno parte della classe operaia o dell'artigianato e molto poco spesso in attività prestigiose e qualificate. Come tutte le cose, anche la migrazione porta con sé pro e contro: tra i contro troviamo la **delinquenza**, che secondo alcuni potrebbero esercitare, ma che molti dati smentiscono (o perlomeno non sono così rilevanti statisticamente); tra i pro troviamo **l'alta fecondità**, pari a quasi 2 figli per donna, che contrasterebbe l'invecchiamento della popolazione italiana. Riguardo la loro inclusione nel Paese che li ospita, molte sono le perplessità in questo campo. Sono spesso vittime di **discriminazioni** nel mondo del lavoro e non solo, anche a scuola e nei luoghi pubblici. Inoltre, una parte di loro si trova in **gravi condizioni economiche**. "
   ]
  },
  {
   "cell_type": "markdown",
   "metadata": {},
   "source": [
    "L'inclusione e l'integrazione sono temi importanti e sempre più attuali, sta ad ognuno di noi vedere questo fenomeno come qualcosa che non può essere fermato o contrastato, bensì sfruttato al meglio e interpretato come un continuo arricchimento."
   ]
  }
 ],
 "metadata": {
  "kernelspec": {
   "display_name": "Python 3",
   "language": "python",
   "name": "python3"
  },
  "language_info": {
   "codemirror_mode": {
    "name": "ipython",
    "version": 3
   },
   "file_extension": ".py",
   "mimetype": "text/x-python",
   "name": "python",
   "nbconvert_exporter": "python",
   "pygments_lexer": "ipython3",
   "version": "3.8.3"
  }
 },
 "nbformat": 4,
 "nbformat_minor": 4
}
