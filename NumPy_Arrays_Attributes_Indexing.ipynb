{
 "cells": [
  {
   "cell_type": "markdown",
   "metadata": {
    "id": "1hJrRLR__3eZ"
   },
   "source": [
    "### Esercizio NumPy 01/10"
   ]
  },
  {
   "cell_type": "markdown",
   "metadata": {},
   "source": [
    "## NumPy Array Attributes"
   ]
  },
  {
   "cell_type": "markdown",
   "metadata": {},
   "source": [
    "+ **Cosa fa la funzione np.random.randint?** Crea una lista casuale entro un determinato intervallo di numeri interi\n",
    "+ **Cosa rappresentano ndim, shape, size?** ndim si riferisce al numero delle dimensioni; shape si riferisce al numero di tuple/colonne per ogni dimensione; size si riferisce al numero di elementi nella lista.\n",
    "+ **Cosa significa dtype: int64?** Numero intero che va da -9223372036854775808 a 9223372036854775807"
   ]
  },
  {
   "cell_type": "markdown",
   "metadata": {},
   "source": [
    "1. **Visualizzare i parametri ndim, shape e size anche degli array x1 e x2**"
   ]
  },
  {
   "cell_type": "code",
   "execution_count": 51,
   "metadata": {
    "id": "aSe1XlCi_3ec"
   },
   "outputs": [],
   "source": [
    "import numpy as np #visualizza ndim, shape e size anche per x1 e x2\n",
    "np.random.seed(0)  \n",
    "x1 = np.random.randint(8, size=3)\n",
    "x2 = np.random.randint(10, size=(3, 4))\n",
    "x3 = np.random.randint(10, size=(3, 4, 5))"
   ]
  },
  {
   "cell_type": "code",
   "execution_count": 52,
   "metadata": {
    "id": "gCBgk7Mr_3em",
    "outputId": "3bdb14b5-5372-4154-e3b3-093a2e421c4e"
   },
   "outputs": [
    {
     "name": "stdout",
     "output_type": "stream",
     "text": [
      "x1 ndim:  1\n",
      "x1 shape: (3,)\n",
      "x1 size:  3\n",
      "x2 ndim:  2\n",
      "x2 shape: (3, 4)\n",
      "x2 size:  12\n",
      "x3 ndim:  3\n",
      "x3 shape: (3, 4, 5)\n",
      "x3 size:  60\n"
     ]
    }
   ],
   "source": [
    "print(\"x1 ndim: \", x1.ndim)\n",
    "print(\"x1 shape:\", x1.shape)\n",
    "print(\"x1 size: \", x1.size)\n",
    "\n",
    "print(\"x2 ndim: \", x2.ndim)\n",
    "print(\"x2 shape:\", x2.shape)\n",
    "print(\"x2 size: \", x2.size)\n",
    "\n",
    "print(\"x3 ndim: \", x3.ndim)\n",
    "print(\"x3 shape:\", x3.shape)\n",
    "print(\"x3 size: \", x3.size)"
   ]
  },
  {
   "cell_type": "markdown",
   "metadata": {},
   "source": [
    "2. **Modificare x1 in modo che ndim sia uguale a 2 e shape sia uguale a (4, 5)**"
   ]
  },
  {
   "cell_type": "code",
   "execution_count": 53,
   "metadata": {},
   "outputs": [],
   "source": [
    "import numpy as np\n",
    "np.random.seed(0)  \n",
    "x1 = np.random.randint(8, size=(4, 5))"
   ]
  },
  {
   "cell_type": "code",
   "execution_count": 54,
   "metadata": {},
   "outputs": [
    {
     "name": "stdout",
     "output_type": "stream",
     "text": [
      "x1 ndim:  2\n",
      "x1 shape: (4, 5)\n",
      "x1 size:  20\n"
     ]
    }
   ],
   "source": [
    "print(\"x1 ndim: \", x1.ndim)\n",
    "print(\"x1 shape:\", x1.shape)\n",
    "print(\"x1 size: \", x1.size)"
   ]
  },
  {
   "cell_type": "markdown",
   "metadata": {},
   "source": [
    "3. **Visualizzare i valori di x1**"
   ]
  },
  {
   "cell_type": "code",
   "execution_count": 55,
   "metadata": {},
   "outputs": [
    {
     "name": "stdout",
     "output_type": "stream",
     "text": [
      "[[4 7 5 0 3]\n",
      " [3 3 7 1 3]\n",
      " [5 2 4 7 6]\n",
      " [0 0 4 2 1]]\n"
     ]
    }
   ],
   "source": [
    "print(x1) #visualizza i valori di x1"
   ]
  },
  {
   "cell_type": "markdown",
   "metadata": {},
   "source": [
    "4. **Cosa indica il primo parametro di random.randint posto al valore 10?** Indica il valore più alto (maggiore) che gli elementi della lista possono assumere"
   ]
  },
  {
   "cell_type": "markdown",
   "metadata": {},
   "source": [
    "5. **Cambiarlo e visualizzare i nuovi valori dell’array**"
   ]
  },
  {
   "cell_type": "code",
   "execution_count": 56,
   "metadata": {},
   "outputs": [
    {
     "name": "stdout",
     "output_type": "stream",
     "text": [
      "[6 7 7]\n"
     ]
    }
   ],
   "source": [
    "x4 = np.random.randint(12, size=3)\n",
    "print(x4)"
   ]
  },
  {
   "cell_type": "markdown",
   "metadata": {
    "id": "4Nt1WpAr_3e8"
   },
   "source": [
    "## Array Indexing: Accessing Single Elements"
   ]
  },
  {
   "cell_type": "markdown",
   "metadata": {},
   "source": [
    "1. **Creare un array es1 di valori casuali interi (randint) di dimensione 3x5, con valore massimo (incluso) uguale a 8. Visualizzare es1**"
   ]
  },
  {
   "cell_type": "code",
   "execution_count": 57,
   "metadata": {},
   "outputs": [
    {
     "name": "stdout",
     "output_type": "stream",
     "text": [
      "[[5 0 3 3 7]\n",
      " [3 5 2 4 7]\n",
      " [6 8 8 1 6]]\n"
     ]
    }
   ],
   "source": [
    "import numpy as np\n",
    "np.random.seed(0)\n",
    "\n",
    "es1 = np.random.randint(9, size=(3,5)) #crea e visualizza es1\n",
    "print(es1)"
   ]
  },
  {
   "cell_type": "markdown",
   "metadata": {},
   "source": [
    "2. **Selezionare gli elementi che hanno valore 5 (5 è un esempio, ovviamente potete scegliere un valore diverso), prima utilizzando la posizione come indice, poi usando la forma negativa dalla fine dell’array (vedere esempi)**"
   ]
  },
  {
   "cell_type": "code",
   "execution_count": 58,
   "metadata": {},
   "outputs": [
    {
     "data": {
      "text/plain": [
       "(5, 5)"
      ]
     },
     "execution_count": 58,
     "metadata": {},
     "output_type": "execute_result"
    }
   ],
   "source": [
    "es1[0,0], es1[1,1] #utilizzo la posizione come indice"
   ]
  },
  {
   "cell_type": "code",
   "execution_count": 59,
   "metadata": {},
   "outputs": [
    {
     "data": {
      "text/plain": [
       "(5, 5)"
      ]
     },
     "execution_count": 59,
     "metadata": {},
     "output_type": "execute_result"
    }
   ],
   "source": [
    "es1[-2,-4], es1[1,-4] #utilizzo la forma negativa"
   ]
  },
  {
   "cell_type": "markdown",
   "metadata": {},
   "source": [
    "3. **Selezionare il primo elemento della seconda riga, il quinto elemento della prima riga, il secondo elemento della seconda colonna, il quarto elemento della terza colonna**"
   ]
  },
  {
   "cell_type": "code",
   "execution_count": 60,
   "metadata": {},
   "outputs": [
    {
     "data": {
      "text/plain": [
       "3"
      ]
     },
     "execution_count": 60,
     "metadata": {},
     "output_type": "execute_result"
    }
   ],
   "source": [
    "es1[0,2] #primo elemento seconda riga"
   ]
  },
  {
   "cell_type": "code",
   "execution_count": 61,
   "metadata": {},
   "outputs": [
    {
     "data": {
      "text/plain": [
       "7"
      ]
     },
     "execution_count": 61,
     "metadata": {},
     "output_type": "execute_result"
    }
   ],
   "source": [
    "es1[0,4] #quinto elemento prima riga"
   ]
  },
  {
   "cell_type": "code",
   "execution_count": 62,
   "metadata": {},
   "outputs": [
    {
     "data": {
      "text/plain": [
       "5"
      ]
     },
     "execution_count": 62,
     "metadata": {},
     "output_type": "execute_result"
    }
   ],
   "source": [
    "es1[1,1] #secondo elemento seconda colonna"
   ]
  },
  {
   "cell_type": "code",
   "execution_count": 63,
   "metadata": {},
   "outputs": [
    {
     "data": {
      "text/plain": [
       "8"
      ]
     },
     "execution_count": 63,
     "metadata": {},
     "output_type": "execute_result"
    }
   ],
   "source": [
    "es1[2,2] #terzo elemento terza colonna"
   ]
  },
  {
   "cell_type": "markdown",
   "metadata": {},
   "source": [
    "4. **Sommare 10 all’elemento es1[0,0], sottrarre 5 all’elemento es1[3,2],\n",
    "sommare l’elemento es1[0,0] all’elemento es1[1,0] e il risultato metterlo in\n",
    "es1[2,0] (non usare i valori, usare i riferimenti alle posizioni dell’array)**"
   ]
  },
  {
   "cell_type": "code",
   "execution_count": 64,
   "metadata": {},
   "outputs": [
    {
     "name": "stdout",
     "output_type": "stream",
     "text": [
      "(15, 3, 8)\n"
     ]
    }
   ],
   "source": [
    "x3 = es1[0,0] + 10, es1[2,2] - 5, es1[0,0] + es1[1,0]\n",
    "print(x3)"
   ]
  }
 ],
 "metadata": {
  "anaconda-cloud": {},
  "colab": {
   "name": "02.02-The-Basics-Of-NumPy-Arrays.ipynb",
   "provenance": []
  },
  "kernelspec": {
   "display_name": "Python 3",
   "language": "python",
   "name": "python3"
  },
  "language_info": {
   "codemirror_mode": {
    "name": "ipython",
    "version": 3
   },
   "file_extension": ".py",
   "mimetype": "text/x-python",
   "name": "python",
   "nbconvert_exporter": "python",
   "pygments_lexer": "ipython3",
   "version": "3.8.3"
  }
 },
 "nbformat": 4,
 "nbformat_minor": 4
}
